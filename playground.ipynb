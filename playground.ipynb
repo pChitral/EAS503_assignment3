{
 "cells": [
  {
   "cell_type": "code",
   "execution_count": 10,
   "metadata": {},
   "outputs": [],
   "source": [
    "def ex1(password):\n",
    "    # In this exercise you will complete this function to determine whether or not\n",
    "    # a password is good. We will define a good password to be a one that is at least\n",
    "    # 8 characters long and contains at least one uppercase letter, at least one lowercase\n",
    "    # letter, at least one number, and at least one of the following special characters (!, @, #, $, ^).\n",
    "    # This function should return True if the password\n",
    "    # passed to it as its only parameter is good. Otherwise it should return False.\n",
    "    #\n",
    "    # input: password (str)\n",
    "    # output: True or False (bool)\n",
    "    # BEGIN SOLUTION\n",
    "    special_char = [\"!\", \"@\", \"#\", \"$\", \"^\"]\n",
    "\n",
    "    for char in password:\n",
    "        if char in special_char:\n",
    "            has_special_char = True\n",
    "            break\n",
    "        else:\n",
    "            has_special_char = False\n",
    "\n",
    "    if len(password) > 7:\n",
    "        pass_len_7plus = True\n",
    "    else:\n",
    "        pass_len_7plus = False\n",
    "\n",
    "    if not password.islower() and not password.isupper() and pass_len_7plus and has_special_char:\n",
    "        return True\n",
    "    else:\n",
    "        return False\n"
   ]
  },
  {
   "cell_type": "code",
   "execution_count": 14,
   "metadata": {},
   "outputs": [
    {
     "name": "stdout",
     "output_type": "stream",
     "text": [
      "True\n"
     ]
    }
   ],
   "source": [
    "print(ex1(\"Aasdds$a\"))"
   ]
  },
  {
   "cell_type": "code",
   "execution_count": null,
   "metadata": {},
   "outputs": [],
   "source": [
    "def ex2(sentence):\n",
    "    # Complete this function to calculate the average\n",
    "    # word length in a sentence\n",
    "    # Input: sentence\n",
    "    # Output: average word length in sentence\n",
    "    # Hint: count punctuations with whatever word they are `touching`\n",
    "    # Hint: round the average to two decimal places\n",
    "\n",
    "    # BEGIN SOLUTION\n",
    "    word_len = []\n",
    "\n",
    "    list_of_words = sentence.split()\n",
    "    for word in list_of_words:\n",
    "        word_len.append(len(word))\n",
    "\n",
    "    average_word_len = round(sum(word_len) / len(word_len), 2)\n",
    "    return average_word_len\n",
    "\n",
    "# END SOLUTION\n"
   ]
  },
  {
   "cell_type": "code",
   "execution_count": 18,
   "metadata": {},
   "outputs": [
    {
     "data": {
      "text/plain": [
       "2.0"
      ]
     },
     "execution_count": 18,
     "metadata": {},
     "output_type": "execute_result"
    }
   ],
   "source": [
    "sentence = \"as as as a! a#\"\n",
    "word_len = []\n",
    "list_of_words = sentence.split()\n",
    "for word in list_of_words:\n",
    "    word_len.append(len(word))\n",
    "average_word_len = round(sum(word_len) / len(word_len), 2)\n",
    "average_word_len\n"
   ]
  },
  {
   "cell_type": "code",
   "execution_count": 19,
   "metadata": {},
   "outputs": [],
   "source": [
    "def ex3(filename):\n",
    "    # Complete this function to count the number of lines, words, and chars in a file.\n",
    "    # Input: filename\n",
    "    # Output: a tuple with line count, word count, and char count -- in this order\n",
    "\n",
    "    # BEGIN SOLUTION\n",
    "    pass\n",
    "    # END SOLUTION"
   ]
  },
  {
   "cell_type": "code",
   "execution_count": 26,
   "metadata": {},
   "outputs": [
    {
     "name": "stdout",
     "output_type": "stream",
     "text": [
      "<_io.TextIOWrapper name='ex3_data.txt' mode='r' encoding='UTF-8'>\n"
     ]
    },
    {
     "ename": "AttributeError",
     "evalue": "'_io.TextIOWrapper' object has no attribute 'split'",
     "output_type": "error",
     "traceback": [
      "\u001b[0;31m---------------------------------------------------------------------------\u001b[0m",
      "\u001b[0;31mAttributeError\u001b[0m                            Traceback (most recent call last)",
      "\u001b[1;32m/Users/chitralpatil/Documents/Zia/Gradescope/assignment3/playground.ipynb Cell 6\u001b[0m in \u001b[0;36m<cell line: 3>\u001b[0;34m()\u001b[0m\n\u001b[1;32m      <a href='vscode-notebook-cell:/Users/chitralpatil/Documents/Zia/Gradescope/assignment3/playground.ipynb#W6sZmlsZQ%3D%3D?line=3'>4</a>\u001b[0m     maal \u001b[39m=\u001b[39m file\n\u001b[1;32m      <a href='vscode-notebook-cell:/Users/chitralpatil/Documents/Zia/Gradescope/assignment3/playground.ipynb#W6sZmlsZQ%3D%3D?line=4'>5</a>\u001b[0m     \u001b[39mprint\u001b[39m(file)\n\u001b[0;32m----> <a href='vscode-notebook-cell:/Users/chitralpatil/Documents/Zia/Gradescope/assignment3/playground.ipynb#W6sZmlsZQ%3D%3D?line=5'>6</a>\u001b[0m     list_of_lines \u001b[39m=\u001b[39m maal\u001b[39m.\u001b[39;49msplit(\u001b[39m\"\u001b[39m\u001b[39m.\u001b[39m\u001b[39m\"\u001b[39m)\n\u001b[1;32m      <a href='vscode-notebook-cell:/Users/chitralpatil/Documents/Zia/Gradescope/assignment3/playground.ipynb#W6sZmlsZQ%3D%3D?line=6'>7</a>\u001b[0m \u001b[39mprint\u001b[39m(list_of_lines)\n",
      "\u001b[0;31mAttributeError\u001b[0m: '_io.TextIOWrapper' object has no attribute 'split'"
     ]
    }
   ],
   "source": [
    "filename = \"ex3_data.txt\"\n",
    "\n",
    "with open(filename, 'r') as file:\n",
    "    maal = file\n",
    "    print(file)\n",
    "    list_of_lines = maal.split(\".\")\n",
    "print(list_of_lines)    \n"
   ]
  },
  {
   "cell_type": "code",
   "execution_count": 14,
   "metadata": {},
   "outputs": [
    {
     "name": "stdout",
     "output_type": "stream",
     "text": [
      "(83, 634, 3540)\n"
     ]
    }
   ],
   "source": [
    "filename = \"ex3_data.txt\"\n",
    "\n",
    "with open(filename, \"r\") as raw_file:\n",
    "    entire_file = raw_file.read()\n",
    "\n",
    "list_of_lines = entire_file.split(\".\")\n",
    "\n",
    "\"\"\" \n",
    "Splitting on \".\" will give us an empty string in the last which indeed would be counted as a line. \n",
    "Thus, to get rid of that empty string we rewrite our list without considering that empty string.\n",
    "\"\"\"\n",
    "list_of_lines = list_of_lines[:len(list_of_lines)-1]\n",
    "number_of_lines = len(list_of_lines) # part 1 of the question done\n",
    "\n",
    "# Before doing anything, lets strip out the spaces and get rid of the unnecessary characters, which may skew the results.\n",
    "for i in range(len(list_of_lines)):\n",
    "    list_of_lines[i] = list_of_lines[i].replace(\"\\n\", \"\").strip()\n",
    "\n",
    "# Here we'll count the total number of words in a line using a for loop\n",
    "number_of_words = 0\n",
    "\n",
    "# Lets calulate the list of list of words first \n",
    "list_of_list_of_words = []\n",
    "\n",
    "for line in list_of_lines:\n",
    "    list_of_list_of_words.append(line.split(\" \"))\n",
    "\n",
    "# Now we'll calculate the total number of words     \n",
    "number_of_words = 0\n",
    "for line in list_of_list_of_words:\n",
    "    number_of_words+= len(line)\n",
    "\n",
    "number_of_characters = 0\n",
    "\n",
    "for list_of_wordss in list_of_list_of_words:\n",
    "    for word in list_of_wordss:\n",
    "        number_of_characters+= len(word)\n",
    "\n",
    "final_answer_tuple = (number_of_lines, number_of_words, number_of_characters)\n",
    "print(final_answer_tuple)"
   ]
  },
  {
   "cell_type": "code",
   "execution_count": null,
   "metadata": {},
   "outputs": [],
   "source": []
  },
  {
   "cell_type": "code",
   "execution_count": null,
   "metadata": {},
   "outputs": [],
   "source": [
    "for word in \n",
    "list_of_chars = []\n",
    "for word in list_of_words:\n",
    "    list_of_words = \n",
    "\n",
    "for line in list_of_sentences:\n",
    "    list_of_words = line.split(\" \")\n",
    "print(list_of_words)\n",
    "\n",
    "for char in line:\n",
    "        chars = chars + len(char)\n",
    "\n",
    "        number_of_characters = 0\n",
    "for line in list_of_lines:\n",
    "    for word in line:\n",
    "        number_of_characters += len(word)\n",
    "\n",
    "for line in list_of_lines:\n",
    "    number_of_words += len(line)"
   ]
  }
 ],
 "metadata": {
  "kernelspec": {
   "display_name": "Python 3.9.12 ('base')",
   "language": "python",
   "name": "python3"
  },
  "language_info": {
   "codemirror_mode": {
    "name": "ipython",
    "version": 3
   },
   "file_extension": ".py",
   "mimetype": "text/x-python",
   "name": "python",
   "nbconvert_exporter": "python",
   "pygments_lexer": "ipython3",
   "version": "3.9.12"
  },
  "orig_nbformat": 4,
  "vscode": {
   "interpreter": {
    "hash": "cd78fef2128015050713e82ca51c6520b11aee7c9ee8df750520bbbc7384cbaa"
   }
  }
 },
 "nbformat": 4,
 "nbformat_minor": 2
}
