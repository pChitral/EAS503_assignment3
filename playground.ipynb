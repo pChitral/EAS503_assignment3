{
 "cells": [
  {
   "cell_type": "code",
   "execution_count": 8,
   "metadata": {},
   "outputs": [],
   "source": [
    "def ex1(password):\n",
    "    # In this exercise you will complete this function to determine whether or not\n",
    "    # a password is good. We will define a good password to be a one that is at least\n",
    "    # 8 characters long and contains at least one uppercase letter, at least one lowercase\n",
    "    # letter, at least one number, and at least one of the following special characters (!, @, #, $, ^).\n",
    "    # This function should return True if the password\n",
    "    # passed to it as its only parameter is good. Otherwise it should return False.\n",
    "    #\n",
    "    # input: password (str)\n",
    "    # output: True or False (bool)\n",
    "    # BEGIN SOLUTION\n",
    "    special_char = [\"!\", \"@\", \"#\", \"$\", \"^\"]\n",
    "\n",
    "    for char in password:\n",
    "        if char in special_char:\n",
    "            has_special_char = True\n",
    "            break\n",
    "        else:\n",
    "            has_special_char = False\n",
    "\n",
    "    if len(password) > 7:\n",
    "        pass_len_7plus = True\n",
    "    else:\n",
    "        pass_len_7plus = False\n",
    "\n",
    "    if not password.islower() and not password.isupper() and pass_len_7plus and has_special_char:\n",
    "        return True\n",
    "    else:\n",
    "        return False\n"
   ]
  },
  {
   "cell_type": "code",
   "execution_count": 9,
   "metadata": {},
   "outputs": [
    {
     "name": "stdout",
     "output_type": "stream",
     "text": [
      "True\n"
     ]
    }
   ],
   "source": [
    "print(ex1(\"Aasdds$a\"))"
   ]
  },
  {
   "cell_type": "code",
   "execution_count": 10,
   "metadata": {},
   "outputs": [],
   "source": [
    "def ex2(sentence):\n",
    "    # Complete this function to calculate the average\n",
    "    # word length in a sentence\n",
    "    # Input: sentence\n",
    "    # Output: average word length in sentence\n",
    "    # Hint: count punctuations with whatever word they are `touching`\n",
    "    # Hint: round the average to two decimal places\n",
    "\n",
    "    # BEGIN SOLUTION\n",
    "    word_len = []\n",
    "\n",
    "    list_of_words = sentence.split()\n",
    "    for word in list_of_words:\n",
    "        word_len.append(len(word))\n",
    "\n",
    "    average_word_len = round(sum(word_len) / len(word_len), 2)\n",
    "    return average_word_len\n",
    "\n",
    "# END SOLUTION\n"
   ]
  },
  {
   "cell_type": "code",
   "execution_count": 11,
   "metadata": {},
   "outputs": [
    {
     "data": {
      "text/plain": [
       "2.0"
      ]
     },
     "execution_count": 11,
     "metadata": {},
     "output_type": "execute_result"
    }
   ],
   "source": [
    "sentence = \"as as as a! a#\"\n",
    "word_len = []\n",
    "list_of_words = sentence.split()\n",
    "for word in list_of_words:\n",
    "    word_len.append(len(word))\n",
    "average_word_len = round(sum(word_len) / len(word_len), 2)\n",
    "average_word_len\n"
   ]
  },
  {
   "cell_type": "code",
   "execution_count": 12,
   "metadata": {},
   "outputs": [],
   "source": [
    "def ex3(filename):\n",
    "    # Complete this function to count the number of lines, words, and chars in a file.\n",
    "    # Input: filename\n",
    "    # Output: a tuple with line count, word count, and char count -- in this order\n",
    "\n",
    "    # BEGIN SOLUTION\n",
    "    pass\n",
    "    # END SOLUTION"
   ]
  },
  {
   "cell_type": "code",
   "execution_count": 13,
   "metadata": {},
   "outputs": [
    {
     "name": "stdout",
     "output_type": "stream",
     "text": [
      "<_io.TextIOWrapper name='ex3_data.txt' mode='r' encoding='UTF-8'>\n"
     ]
    },
    {
     "ename": "AttributeError",
     "evalue": "'_io.TextIOWrapper' object has no attribute 'split'",
     "output_type": "error",
     "traceback": [
      "\u001b[0;31m---------------------------------------------------------------------------\u001b[0m",
      "\u001b[0;31mAttributeError\u001b[0m                            Traceback (most recent call last)",
      "\u001b[1;32m/Users/chitralpatil/Documents/Zia/Gradescope/assignment3/playground.ipynb Cell 6\u001b[0m in \u001b[0;36m<cell line: 3>\u001b[0;34m()\u001b[0m\n\u001b[1;32m      <a href='vscode-notebook-cell:/Users/chitralpatil/Documents/Zia/Gradescope/assignment3/playground.ipynb#W5sZmlsZQ%3D%3D?line=3'>4</a>\u001b[0m     maal \u001b[39m=\u001b[39m file\n\u001b[1;32m      <a href='vscode-notebook-cell:/Users/chitralpatil/Documents/Zia/Gradescope/assignment3/playground.ipynb#W5sZmlsZQ%3D%3D?line=4'>5</a>\u001b[0m     \u001b[39mprint\u001b[39m(file)\n\u001b[0;32m----> <a href='vscode-notebook-cell:/Users/chitralpatil/Documents/Zia/Gradescope/assignment3/playground.ipynb#W5sZmlsZQ%3D%3D?line=5'>6</a>\u001b[0m     list_of_lines \u001b[39m=\u001b[39m maal\u001b[39m.\u001b[39;49msplit(\u001b[39m\"\u001b[39m\u001b[39m.\u001b[39m\u001b[39m\"\u001b[39m)\n\u001b[1;32m      <a href='vscode-notebook-cell:/Users/chitralpatil/Documents/Zia/Gradescope/assignment3/playground.ipynb#W5sZmlsZQ%3D%3D?line=6'>7</a>\u001b[0m \u001b[39mprint\u001b[39m(list_of_lines)\n",
      "\u001b[0;31mAttributeError\u001b[0m: '_io.TextIOWrapper' object has no attribute 'split'"
     ]
    }
   ],
   "source": [
    "filename = \"ex3_data.txt\"\n",
    "\n",
    "with open(filename, 'r') as file:\n",
    "    maal = file\n",
    "    print(file)\n",
    "    list_of_lines = maal.split(\".\")\n",
    "print(list_of_lines)    \n"
   ]
  },
  {
   "cell_type": "code",
   "execution_count": null,
   "metadata": {},
   "outputs": [
    {
     "name": "stdout",
     "output_type": "stream",
     "text": [
      "(83, 665, 3540)\n"
     ]
    }
   ],
   "source": [
    "filename = \"ex3_data.txt\"\n",
    "\n",
    "with open(filename, \"r\") as raw_file:\n",
    "    entire_file = raw_file.read()\n",
    "\n",
    "list_of_lines = entire_file.split(\".\")\n",
    "\n",
    "\"\"\" \n",
    "Splitting on \".\" will give us an empty string in the last which indeed would be counted as a line. \n",
    "Thus, to get rid of that empty string we rewrite our list without considering that empty string.\n",
    "\"\"\"\n",
    "list_of_lines = list_of_lines[:len(list_of_lines)-1]\n",
    "number_of_lines = len(list_of_lines) # part 1 of the question done\n",
    "\n",
    "# Before doing anything, lets strip out the spaces and get rid of the unnecessary characters, which may skew the results.\n",
    "for i in range(len(list_of_lines)):\n",
    "    list_of_lines[i] = list_of_lines[i].replace(\"\\n\", \" \").strip()\n",
    "\n",
    "# Here we'll count the total number of words in a line using a for loop\n",
    "number_of_words = 0\n",
    "\n",
    "# Lets calulate the list of list of words first \n",
    "list_of_list_of_words = []\n",
    "\n",
    "for line in list_of_lines:\n",
    "    list_of_list_of_words.append(line.split(\" \"))\n",
    "\n",
    "# Now we'll calculate the total number of words     \n",
    "number_of_words = 0\n",
    "for line in list_of_list_of_words:\n",
    "    number_of_words+= len(line)\n",
    "\n",
    "number_of_characters = 0\n",
    "\n",
    "for list_of_wordss in list_of_list_of_words:\n",
    "    for word in list_of_wordss:\n",
    "        number_of_characters+= len(word)\n",
    "\n",
    "final_answer_tuple = (number_of_lines, number_of_words, number_of_characters)\n",
    "print(final_answer_tuple)"
   ]
  },
  {
   "cell_type": "code",
   "execution_count": null,
   "metadata": {},
   "outputs": [
    {
     "name": "stdout",
     "output_type": "stream",
     "text": [
      "['Lorem ipsum dolor sit amet, consectetur adipiscing elit, sed do eiusmod tempor ', 'incididunt ut labore et dolore magna aliqua. Quis commodo odio aenean sed ', 'adipiscing diam donec adipiscing. Consequat interdum varius sit amet. Sem ', 'viverra aliquet eget sit. Et tortor consequat id porta nibh venenatis cras ', 'sed felis. Fermentum odio eu feugiat pretium nibh ipsum consequat nisl vel. ', 'Adipiscing elit ut aliquam purus sit amet luctus venenatis. Tincidunt ornare ', 'massa eget egestas purus viverra accumsan in. Purus viverra accumsan in nisl nisi. ', 'Imperdiet massa tincidunt nunc pulvinar sapien et ligula. Et ligula ullamcorper malesuada ', 'proin libero. Eget gravida cum sociis natoque penatibus et magnis. Natoque penatibus et magnis ', 'dis parturient montes nascetur. Ipsum consequat nisl vel pretium lectus. Rhoncus dolor purus ', 'non enim praesent. Posuere morbi leo urna molestie. Ut consequat semper viverra nam. Faucibus ', 'interdum posuere lorem ipsum dolor. Tincidunt nunc pulvinar sapien et ligula ullamcorper malesuada proin libero.', '', 'Integer malesuada nunc vel risus. Arcu non odio euismod lacinia at quis risus. Ultrices neque', 'ornare aenean euismod elementum nisi quis eleifend quam. Cursus risus at ultrices mi tempus imperdiet. ', 'Sapien nec sagittis aliquam malesuada bibendum. Sem fringilla ut morbi tincidunt augue interdum velit ', 'euismod. Volutpat est velit egestas dui id. Nisi est sit amet facilisis magna. Netus et malesuada fames', 'ac turpis egestas. Pellentesque elit eget gravida cum. Urna molestie at elementum eu.', 'Nulla aliquet porttitor lacus luctus accumsan tortor. Nisl nisi scelerisque eu ultrices ', 'vitae auctor eu augue ut. Adipiscing elit ut aliquam purus. Pharetra vel turpis nunc eget', 'lorem dolor sed viverra ipsum. Pharetra vel turpis nunc eget lorem dolor sed viverra ipsum. ', 'A cras semper auctor neque vitae tempus quam pellentesque.', '', 'Sem fringilla ut morbi tincidunt augue interdum. Ac ut consequat semper viverra nam ', 'libero justo laoreet sit. Vulputate mi sit amet mauris commodo quis imperdiet massa tincidunt. ', 'Ac turpis egestas integer eget aliquet. Id nibh tortor id aliquet lectus proin nibh nisl. Urna ', 'nec tincidunt praesent semper feugiat nibh sed pulvinar proin. Tincidunt arcu non sodales neque ', 'sodales. Nulla malesuada pellentesque elit eget gravida cum sociis natoque penatibus. Risus feugiat', 'in ante metus dictum at tempor. Sed velit dignissim sodales ut. Bibendum neque egestas congue quisque ', 'egestas diam. Cras sed felis eget velit aliquet. Elit ullamcorper dignissim cras tincidunt lobortis ', 'feugiat vivamus at augue. Aliquet bibendum enim facilisis gravida neque. Diam sollicitudin tempor', 'id eu nisl nunc mi. Mauris ultrices eros in cursus turpis. Pellentesque id nibh tortor id.', '', 'Molestie ac feugiat sed lectus vestibulum mattis ullamcorper velit sed. Tincidunt arcu non sodales ', 'neque sodales. Et netus et malesuada fames ac turpis. Leo a diam sollicitudin tempor id eu nisl nunc ', 'mi. In aliquam sem fringilla ut morbi tincidunt augue. Ultrices neque ornare aenean euismod elementum', 'nisi quis. Integer quis auctor elit sed. Amet tellus cras adipiscing enim eu. Nisl suscipit ', 'adipiscing bibendum est ultricies integer quis auctor elit. Eu tincidunt tortor aliquam nulla. ', 'Leo a diam sollicitudin tempor id eu. Cum sociis natoque penatibus et magnis dis parturient montes ', 'nascetur. Tortor posuere ac ut consequat semper. Morbi tristique senectus et netus et malesuada ', 'fames ac turpis. Et netus et malesuada fames ac. Lacus vel facilisis volutpat est velit egestas dui.', '', 'Sit amet risus nullam eget felis eget nunc lobortis mattis. Eu lobortis elementum nibh tellus', 'molestie nunc non blandit massa. Sit amet mauris commodo quis imperdiet massa tincidunt nunc pulvinar.', 'Venenatis cras sed felis eget velit. Senectus et netus et malesuada. In pellentesque massa placerat', 'duis ultricies lacus. Non quam lacus suspendisse faucibus interdum posuere lorem ipsum dolor. Vulputate enim', 'nulla aliquet porttitor lacus luctus. Lobortis feugiat vivamus at augue eget arcu dictum varius duis. ', 'A diam maecenas sed enim ut sem viverra aliquet. Fames ac turpis egestas sed tempus urna et pharetra.', 'Consequat mauris nunc congue nisi vitae suscipit tellus mauris. Sem fringilla ut morbi tincidunt augue ', 'interdum velit euismod. Tristique risus nec feugiat in fermentum.']\n",
      "(50, 50, 3623)\n"
     ]
    }
   ],
   "source": [
    "filename = \"ex3_data.txt\"\n",
    "\n",
    "with open(filename, \"r\") as raw_file:\n",
    "    entire_file = raw_file.read()\n",
    "\n",
    "list_of_lines = entire_file.split(\"\\n\")\n",
    "print(list_of_lines)\n",
    "\n",
    "number_of_lines = len(list_of_lines) # part 1 of the question done\n",
    "\n",
    "# Before doing anything, lets strip out the spaces and get rid of the unnecessary characters, which may skew the results.\n",
    "for i in range(len(list_of_lines)):\n",
    "    list_of_lines[i] = list_of_lines[i].replace(\" \", \"\").strip()\n",
    "\n",
    "# Here we'll count the total number of words in a line using a for loop\n",
    "number_of_words = 0\n",
    "\n",
    "# Lets calulate the list of list of words first \n",
    "list_of_list_of_words = []\n",
    "\n",
    "for line in list_of_lines:\n",
    "    list_of_list_of_words.append(line.split(\" \"))\n",
    "\n",
    "# Now we'll calculate the total number of words     \n",
    "number_of_words = 0\n",
    "for line in list_of_list_of_words:\n",
    "    number_of_words+= len(line)\n",
    "\n",
    "number_of_characters = 0\n",
    "\n",
    "for list_of_wordss in list_of_list_of_words:\n",
    "    for word in list_of_wordss:\n",
    "        number_of_characters+= len(word)\n",
    "\n",
    "final_answer_tuple = (number_of_lines, number_of_words, number_of_characters)\n",
    "print(final_answer_tuple)"
   ]
  },
  {
   "cell_type": "code",
   "execution_count": null,
   "metadata": {},
   "outputs": [],
   "source": [
    "def ex4(apr):\n",
    "    # Complete this function to use a while loop to determine how long it takes for an investment\n",
    "    # to double at a given interest rate. The input to this function, apr, is the annualized interest rate\n",
    "    # and the output is the number of years it takes an investment to double. Note: The amount of the initial\n",
    "    # investment (principal) does not matter; you can use $1.\n",
    "    # Hint: principal is the amount of money being invested.\n",
    "    # apr is the annual percentage rate expressed as a decimal number.\n",
    "    # Relationship: value after one year is given by principal * (1+ apr)\n",
    "\n",
    "    # BEGIN SOLUTION\n",
    "    pass\n",
    "    # END SOLUTION"
   ]
  },
  {
   "cell_type": "code",
   "execution_count": null,
   "metadata": {},
   "outputs": [
    {
     "name": "stdout",
     "output_type": "stream",
     "text": [
      "0\n"
     ]
    }
   ],
   "source": [
    "principal_amount = 1\n",
    "value = principal_amount\n",
    "apr = (apr/100)\n",
    "year = 0\n",
    "\n",
    "while ((2 * principal_amount) < (principal_amount)):\n",
    "    print(year)\n",
    "    print(principal_amount)\n",
    "    print(apr)\n",
    "    principal_amount = principal_amount * apr\n",
    "    year = year + 1\n",
    "\n",
    "print(year)\n"
   ]
  },
  {
   "cell_type": "code",
   "execution_count": null,
   "metadata": {},
   "outputs": [
    {
     "name": "stdout",
     "output_type": "stream",
     "text": [
      "1\n"
     ]
    }
   ],
   "source": [
    "principal_amount = 1\n",
    "value = principal_amount\n",
    "apr = 100\n",
    "apr = (apr/100)\n",
    "year = 0\n",
    "\n",
    "while (value < (2 * principal_amount)):\n",
    "    value = principal_amount * (apr + 1)\n",
    "    year = year + 1\n",
    "\n",
    "print(year)"
   ]
  },
  {
   "cell_type": "code",
   "execution_count": null,
   "metadata": {},
   "outputs": [
    {
     "data": {
      "text/plain": [
       "1"
      ]
     },
     "execution_count": 35,
     "metadata": {},
     "output_type": "execute_result"
    }
   ],
   "source": [
    "def ex4(apr):\n",
    "    # Complete this function to use a while loop to determine how long it takes for an investment\n",
    "    # to double at a given interest rate. The input to this function, apr, is the annualized interest rate\n",
    "    # and the output is the number of years it takes an investment to double. Note: The amount of the initial\n",
    "    # investment (principal) does not matter; you can use $1.\n",
    "    # Hint: principal is the amount of money being invested.\n",
    "    # apr is the annual percentage rate expressed as a decimal number.\n",
    "    # Relationship: value after one year is given by principal * (1+ apr)\n",
    "\n",
    "    # BEGIN SOLUTION\n",
    "    principal_amount = 1\n",
    "    year = 0\n",
    "    value = principal_amount\n",
    "    while (value < 2 * principal_amount):\n",
    "        value = value * ((apr/100) + 1)\n",
    "        year = year + 1\n",
    "    return year\n",
    "    # END SOLUTION\n",
    "ex4(100)"
   ]
  },
  {
   "cell_type": "code",
   "execution_count": null,
   "metadata": {},
   "outputs": [
    {
     "data": {
      "text/plain": [
       "1"
      ]
     },
     "execution_count": 37,
     "metadata": {},
     "output_type": "execute_result"
    }
   ],
   "source": [
    "ex4(100)"
   ]
  },
  {
   "cell_type": "code",
   "execution_count": null,
   "metadata": {},
   "outputs": [
    {
     "name": "stdout",
     "output_type": "stream",
     "text": [
      "lines: 50 words: 643 characters: 4249\n"
     ]
    }
   ],
   "source": [
    "file = open(\"ex3_data.txt\", \"r\")\n",
    "\n",
    "number_of_lines = 0\n",
    "number_of_words = 0\n",
    "number_of_characters = 0\n",
    "for line in file:\n",
    "\n",
    "    line = line.strip(\"\\n\")\n",
    "\n",
    "\n",
    "    words = line.split()\n",
    "    number_of_lines += 1\n",
    "    number_of_words += len(words)\n",
    "    number_of_characters += len(line)\n",
    "\n",
    "file.close()\n",
    "print(\"lines:\", number_of_lines, \"words:\", number_of_words, \"characters:\", number_of_characters)"
   ]
  },
  {
   "cell_type": "code",
   "execution_count": null,
   "metadata": {},
   "outputs": [
    {
     "name": "stdout",
     "output_type": "stream",
     "text": [
      "[2, 3, 5, 7, 11, 13, 17, 19, 23, 29]\n"
     ]
    }
   ],
   "source": [
    "n = 30\n",
    "primes = []\n",
    "if n >= 2:\n",
    "    primes = [2]\n",
    "if n >= 3:\n",
    "    primes = [2,3]    \n",
    "if n >= 5:\n",
    "    primes = [2,3,5]\n",
    "if n >= 7:\n",
    "    primes = [2,3,5,7]   \n",
    "for i in range(2, n+1):\n",
    "    if i % 2 == 0 or i % 3 == 0 or i % 5 == 0 or i % 7 == 0:\n",
    "        continue\n",
    "    else:\n",
    "        primes.append(i)\n",
    "\n",
    "print(primes)\n"
   ]
  },
  {
   "cell_type": "code",
   "execution_count": null,
   "metadata": {},
   "outputs": [],
   "source": [
    "def ex7(n):\n",
    "    # Complete this function to return all the primes as a list less than or equal to n\n",
    "    # Input: n\n",
    "    # Output: a list of numbers\n",
    "    # hint use ex6\n",
    "\n",
    "    # BEGIN SOLUTION\n",
    "    primes = []\n",
    "    if n >= 2:\n",
    "        primes = [2]\n",
    "    if n >= 3:\n",
    "        primes = [2, 3]\n",
    "    if n >= 5:\n",
    "        primes = [2, 3, 5]\n",
    "    if n >= 7:\n",
    "        primes = [2, 3, 5, 7]\n",
    "    for i in range(2, n+1):\n",
    "        if i % 2 == 0 or i % 3 == 0 or i % 5 == 0 or i % 7 == 0:\n",
    "            continue\n",
    "        else:\n",
    "            primes.append(i)\n",
    "    return primes\n",
    "    "
   ]
  },
  {
   "cell_type": "code",
   "execution_count": null,
   "metadata": {},
   "outputs": [
    {
     "name": "stdout",
     "output_type": "stream",
     "text": [
      "[]\n"
     ]
    }
   ],
   "source": [
    "print(ex7(1))"
   ]
  },
  {
   "cell_type": "code",
   "execution_count": null,
   "metadata": {},
   "outputs": [],
   "source": [
    "def ex8(m, n):\n",
    "    # Complete this function to determine the greatest common divisor (GCD).\n",
    "    # The GCD of two values can be computed using Euclid's algorithm. Starting with the values\n",
    "    # m and n, we repeatedly apply the formula: n, m = m, n%m until m is 0. At this point, n is the GCD\n",
    "    # of the original m and n.\n",
    "    # Inputs: m and n which are both natural numbers\n",
    "    # Output: gcd\n",
    "\n",
    "    # BEGIN SOLUTION\n",
    "    ans = None\n",
    "    if m < n or n > m:\n",
    "        divisor = m\n",
    "        dividend = n\n",
    "    elif m == n:\n",
    "        divisor = m\n",
    "        dividend = m\n",
    "    else:\n",
    "        divisor = n\n",
    "        dividend = m\n",
    "    for i in range(divisor, 0, -1):\n",
    "        if (dividend % divisor == 0):\n",
    "            ans = divisor\n",
    "            break\n",
    "        else:\n",
    "            continue\n",
    "    if not ans:\n",
    "        return 1\n",
    "    else:\n",
    "        return ans\n",
    "        # END SOLUTION\n"
   ]
  },
  {
   "cell_type": "code",
   "execution_count": null,
   "metadata": {},
   "outputs": [
    {
     "name": "stdout",
     "output_type": "stream",
     "text": [
      "2\n"
     ]
    }
   ],
   "source": [
    "print( ex8(2,2))"
   ]
  },
  {
   "cell_type": "code",
   "execution_count": null,
   "metadata": {},
   "outputs": [],
   "source": [
    "with open(\"ex9_data.txt\", \"r\") as raw_file:\n",
    "    entire_file = raw_file.read()\n",
    "\n",
    "list_of_student_names_and_marks = entire_file.split(\"\\n\")\n",
    "list_of_student_names_and_marks = list_of_student_names_and_marks[::2]\n",
    "maal = []\n",
    "for i in range(len(list_of_student_names_and_marks)):\n",
    "    maal.append(list_of_student_names_and_marks[i].split(\",\"))\n",
    "dicto = {}\n",
    "list_of_dicts = []\n"
   ]
  },
  {
   "cell_type": "code",
   "execution_count": null,
   "metadata": {},
   "outputs": [
    {
     "data": {
      "text/plain": [
       "[{'name': 'student1000',\n",
       "  'marks': [59,\n",
       "   72,\n",
       "   60,\n",
       "   89,\n",
       "   50,\n",
       "   89,\n",
       "   100,\n",
       "   91,\n",
       "   96,\n",
       "   80,\n",
       "   99,\n",
       "   100,\n",
       "   60,\n",
       "   76,\n",
       "   79,\n",
       "   85,\n",
       "   95,\n",
       "   67,\n",
       "   63,\n",
       "   69,\n",
       "   86,\n",
       "   62,\n",
       "   66,\n",
       "   75,\n",
       "   96]},\n",
       " {'name': 'student1000',\n",
       "  'marks': [59,\n",
       "   72,\n",
       "   60,\n",
       "   89,\n",
       "   50,\n",
       "   89,\n",
       "   100,\n",
       "   91,\n",
       "   96,\n",
       "   80,\n",
       "   99,\n",
       "   100,\n",
       "   60,\n",
       "   76,\n",
       "   79,\n",
       "   85,\n",
       "   95,\n",
       "   67,\n",
       "   63,\n",
       "   69,\n",
       "   86,\n",
       "   62,\n",
       "   66,\n",
       "   75,\n",
       "   96]}]"
      ]
     },
     "execution_count": 175,
     "metadata": {},
     "output_type": "execute_result"
    }
   ],
   "source": [
    "for i in range(len(maal)-1):\n",
    "    dicto[\"name\"] = (maal[i][0])\n",
    "    dicto[\"marks\"] = [eval(i) for i in (maal[i][1:])]\n",
    "    list_of_dicts.append(dicto)\n",
    "\n",
    "list_of_dicts[:2]   \n",
    "\n"
   ]
  },
  {
   "cell_type": "code",
   "execution_count": null,
   "metadata": {},
   "outputs": [
    {
     "data": {
      "text/plain": [
       "[59,\n",
       " 72,\n",
       " 60,\n",
       " 89,\n",
       " 50,\n",
       " 89,\n",
       " 100,\n",
       " 91,\n",
       " 96,\n",
       " 80,\n",
       " 99,\n",
       " 100,\n",
       " 60,\n",
       " 76,\n",
       " 79,\n",
       " 85,\n",
       " 95,\n",
       " 67,\n",
       " 63,\n",
       " 69,\n",
       " 86,\n",
       " 62,\n",
       " 66,\n",
       " 75,\n",
       " 96]"
      ]
     },
     "execution_count": 194,
     "metadata": {},
     "output_type": "execute_result"
    }
   ],
   "source": [
    "list_of_dicts[10][\"marks\"]"
   ]
  },
  {
   "cell_type": "code",
   "execution_count": null,
   "metadata": {},
   "outputs": [],
   "source": [
    "numbers = [1,2,3,4,5,1,4,5]\n"
   ]
  },
  {
   "cell_type": "code",
   "execution_count": null,
   "metadata": {},
   "outputs": [
    {
     "ename": "IndexError",
     "evalue": "list index out of range",
     "output_type": "error",
     "traceback": [
      "\u001b[0;31m---------------------------------------------------------------------------\u001b[0m",
      "\u001b[0;31mIndexError\u001b[0m                                Traceback (most recent call last)",
      "\u001b[1;32m/Users/chitralpatil/Documents/Zia/Gradescope/assignment3/playground.ipynb Cell 22\u001b[0m in \u001b[0;36m<cell line: 1>\u001b[0;34m()\u001b[0m\n\u001b[0;32m----> <a href='vscode-notebook-cell:/Users/chitralpatil/Documents/Zia/Gradescope/assignment3/playground.ipynb#X32sZmlsZQ%3D%3D?line=0'>1</a>\u001b[0m list_of_dicts[\u001b[39m0\u001b[39;49m]\n",
      "\u001b[0;31mIndexError\u001b[0m: list index out of range"
     ]
    }
   ],
   "source": []
  },
  {
   "cell_type": "code",
   "execution_count": null,
   "metadata": {},
   "outputs": [],
   "source": [
    "list1 = [10, 20, 4, 45, 99]\n",
    " \n",
    "# sorting the list\n",
    "list1.sort()"
   ]
  },
  {
   "cell_type": "code",
   "execution_count": null,
   "metadata": {},
   "outputs": [
    {
     "name": "stdout",
     "output_type": "stream",
     "text": [
      "0\n",
      "1\n"
     ]
    }
   ],
   "source": [
    "for i in range(2):\n",
    "    print(i)"
   ]
  },
  {
   "cell_type": "code",
   "execution_count": 25,
   "metadata": {},
   "outputs": [
    {
     "data": {
      "text/plain": [
       "[10, 20, 45]"
      ]
     },
     "execution_count": 25,
     "metadata": {},
     "output_type": "execute_result"
    }
   ],
   "source": [
    "data = [10, 20, 4, 45, 99]\n",
    "for i in range(1):\n",
    "    data.remove(min(data))\n",
    "    data.remove(max(data))\n",
    "data  "
   ]
  },
  {
   "cell_type": "code",
   "execution_count": 28,
   "metadata": {},
   "outputs": [],
   "source": [
    "def ex12(n):\n",
    "    # A proper divisor of a  positive integer, n, is a positive integer less than n which divides\n",
    "    # evenly into n. Complete this function to compute all the proper divisors of a positive\n",
    "    # integer. The integer is passed to this function as the only parameter. The function will\n",
    "    # return a list of containing all of the proper divisors as its only result.\n",
    "\n",
    "    # input: n (int)\n",
    "    # output: list\n",
    "\n",
    "    # BEGIN SOLUTION\n",
    "    proper_divisors = []\n",
    "    for i in range(1, n+1):\n",
    "        if n % i == 0:\n",
    "            proper_divisors.append(i)\n",
    "    proper_divisors.remove(n)\n",
    "    return proper_divisors\n",
    "\n",
    "    # END SOLUTION"
   ]
  },
  {
   "cell_type": "code",
   "execution_count": 39,
   "metadata": {},
   "outputs": [
    {
     "name": "stdout",
     "output_type": "stream",
     "text": [
      "6\n",
      "7\n"
     ]
    }
   ],
   "source": [
    "points = [(1, 0), (2, 3), (3, 4)]\n",
    "\n",
    "x = []\n",
    "y = []\n",
    "for point in points:\n",
    "    x.append(point[0])\n",
    "    y.append(point[1])\n",
    "x_sum = sum(x)\n",
    "y_sum = sum(y)\n",
    "\n",
    "x_mean = x_sum / len(x)\n",
    "y_mean = y_sum / len(y)\n",
    "\n",
    "x_denom = []\n",
    "numerator_fina = []\n",
    "for i in range(len(x)):\n",
    "    numerator_fina.append((x[i] - x_mean)*(y[i]-y_mean))\n",
    "    x_denom.append((x[i] - x_mean)**2)\n",
    "slope = sum(numerator_fina)/sum(x_denom)\n",
    "b = y_mean - (slope)*(x_mean)\n",
    "\n",
    "\n"
   ]
  },
  {
   "cell_type": "code",
   "execution_count": 6,
   "metadata": {},
   "outputs": [
    {
     "name": "stdout",
     "output_type": "stream",
     "text": [
      "Lorem ipsum dolor sit amet, consectetur adipiscing elit, sed do eiusmod tempor \n",
      "\n",
      "incididunt ut labore et dolore magna aliqua. Quis commodo odio aenean sed \n",
      "\n",
      "adipiscing diam donec adipiscing. Consequat interdum varius sit amet. Sem \n",
      "\n",
      "viverra aliquet eget sit. Et tortor consequat id porta nibh venenatis cras \n",
      "\n",
      "sed felis. Fermentum odio eu feugiat pretium nibh ipsum consequat nisl vel. \n",
      "\n",
      "Adipiscing elit ut aliquam purus sit amet luctus venenatis. Tincidunt ornare \n",
      "\n",
      "massa eget egestas purus viverra accumsan in. Purus viverra accumsan in nisl nisi. \n",
      "\n",
      "Imperdiet massa tincidunt nunc pulvinar sapien et ligula. Et ligula ullamcorper malesuada \n",
      "\n",
      "proin libero. Eget gravida cum sociis natoque penatibus et magnis. Natoque penatibus et magnis \n",
      "\n",
      "dis parturient montes nascetur. Ipsum consequat nisl vel pretium lectus. Rhoncus dolor purus \n",
      "\n",
      "non enim praesent. Posuere morbi leo urna molestie. Ut consequat semper viverra nam. Faucibus \n",
      "\n",
      "interdum posuere lorem ipsum dolor. Tincidunt nunc pulvinar sapien et ligula ullamcorper malesuada proin libero.\n",
      "\n",
      "\n",
      "\n",
      "Integer malesuada nunc vel risus. Arcu non odio euismod lacinia at quis risus. Ultrices neque\n",
      "\n",
      "ornare aenean euismod elementum nisi quis eleifend quam. Cursus risus at ultrices mi tempus imperdiet. \n",
      "\n",
      "Sapien nec sagittis aliquam malesuada bibendum. Sem fringilla ut morbi tincidunt augue interdum velit \n",
      "\n",
      "euismod. Volutpat est velit egestas dui id. Nisi est sit amet facilisis magna. Netus et malesuada fames\n",
      "\n",
      "ac turpis egestas. Pellentesque elit eget gravida cum. Urna molestie at elementum eu.\n",
      "\n",
      "Nulla aliquet porttitor lacus luctus accumsan tortor. Nisl nisi scelerisque eu ultrices \n",
      "\n",
      "vitae auctor eu augue ut. Adipiscing elit ut aliquam purus. Pharetra vel turpis nunc eget\n",
      "\n",
      "lorem dolor sed viverra ipsum. Pharetra vel turpis nunc eget lorem dolor sed viverra ipsum. \n",
      "\n",
      "A cras semper auctor neque vitae tempus quam pellentesque.\n",
      "\n",
      "\n",
      "\n",
      "Sem fringilla ut morbi tincidunt augue interdum. Ac ut consequat semper viverra nam \n",
      "\n",
      "libero justo laoreet sit. Vulputate mi sit amet mauris commodo quis imperdiet massa tincidunt. \n",
      "\n",
      "Ac turpis egestas integer eget aliquet. Id nibh tortor id aliquet lectus proin nibh nisl. Urna \n",
      "\n",
      "nec tincidunt praesent semper feugiat nibh sed pulvinar proin. Tincidunt arcu non sodales neque \n",
      "\n",
      "sodales. Nulla malesuada pellentesque elit eget gravida cum sociis natoque penatibus. Risus feugiat\n",
      "\n",
      "in ante metus dictum at tempor. Sed velit dignissim sodales ut. Bibendum neque egestas congue quisque \n",
      "\n",
      "egestas diam. Cras sed felis eget velit aliquet. Elit ullamcorper dignissim cras tincidunt lobortis \n",
      "\n",
      "feugiat vivamus at augue. Aliquet bibendum enim facilisis gravida neque. Diam sollicitudin tempor\n",
      "\n",
      "id eu nisl nunc mi. Mauris ultrices eros in cursus turpis. Pellentesque id nibh tortor id.\n",
      "\n",
      "\n",
      "\n",
      "Molestie ac feugiat sed lectus vestibulum mattis ullamcorper velit sed. Tincidunt arcu non sodales \n",
      "\n",
      "neque sodales. Et netus et malesuada fames ac turpis. Leo a diam sollicitudin tempor id eu nisl nunc \n",
      "\n",
      "mi. In aliquam sem fringilla ut morbi tincidunt augue. Ultrices neque ornare aenean euismod elementum\n",
      "\n",
      "nisi quis. Integer quis auctor elit sed. Amet tellus cras adipiscing enim eu. Nisl suscipit \n",
      "\n",
      "adipiscing bibendum est ultricies integer quis auctor elit. Eu tincidunt tortor aliquam nulla. \n",
      "\n",
      "Leo a diam sollicitudin tempor id eu. Cum sociis natoque penatibus et magnis dis parturient montes \n",
      "\n",
      "nascetur. Tortor posuere ac ut consequat semper. Morbi tristique senectus et netus et malesuada \n",
      "\n",
      "fames ac turpis. Et netus et malesuada fames ac. Lacus vel facilisis volutpat est velit egestas dui.\n",
      "\n",
      "\n",
      "\n",
      "Sit amet risus nullam eget felis eget nunc lobortis mattis. Eu lobortis elementum nibh tellus\n",
      "\n",
      "molestie nunc non blandit massa. Sit amet mauris commodo quis imperdiet massa tincidunt nunc pulvinar.\n",
      "\n",
      "Venenatis cras sed felis eget velit. Senectus et netus et malesuada. In pellentesque massa placerat\n",
      "\n",
      "duis ultricies lacus. Non quam lacus suspendisse faucibus interdum posuere lorem ipsum dolor. Vulputate enim\n",
      "\n",
      "nulla aliquet porttitor lacus luctus. Lobortis feugiat vivamus at augue eget arcu dictum varius duis. \n",
      "\n",
      "A diam maecenas sed enim ut sem viverra aliquet. Fames ac turpis egestas sed tempus urna et pharetra.\n",
      "\n",
      "Consequat mauris nunc congue nisi vitae suscipit tellus mauris. Sem fringilla ut morbi tincidunt augue \n",
      "\n",
      "interdum velit euismod. Tristique risus nec feugiat in fermentum.\n",
      "lines: 50 words: 643 characters: 4298\n"
     ]
    }
   ],
   "source": [
    "filename = \"ex3_data.txt\"\n",
    "\n",
    "number_of_lines = 0\n",
    "number_of_words = 0\n",
    "number_of_characters = 0\n",
    "with open(filename, 'r') as file:\n",
    "    for line in file:\n",
    "        # It is very important that we calculate the number of characters before splitting the line on \\n since we would be loosing that character and the results would be nothing if not inaccurate\n",
    "        number_of_characters += len(line)\n",
    "\n",
    "        line = line.strip(\"\\n\")\n",
    "        words = line.split()\n",
    "        number_of_lines += 1\n",
    "        number_of_words += len(words)\n",
    "\n",
    "\n",
    "return ()\n"
   ]
  },
  {
   "cell_type": "code",
   "execution_count": 38,
   "metadata": {},
   "outputs": [],
   "source": [
    "with open(\"ex9_data.txt\", \"r\") as raw_file:\n",
    "        adulterated_list = []\n",
    "        names = []\n",
    "        avg = []\n",
    "        for line in raw_file:\n",
    "                adulterated_list.append(line.split())\n",
    "        cleaned_list = adulterated_list[::2]\n",
    "        \n",
    "        for line in cleaned_list:\n",
    "                names.append(line[0].split(\",\")[0])\n",
    "                marks = line[0].split(\",\")[1:]\n",
    "                avg.append(round(sum(map(int, marks))/25, 2))\n",
    "max_value = max(avg)\n",
    "max_index = avg.index(max_value)\n",
    "min_value = min(avg)\n",
    "min_index = avg.index(min_value)\n",
    "\n",
    "return (names[max_index], max_value, names[min_index],min_value )                \n",
    "        \n"
   ]
  },
  {
   "cell_type": "code",
   "execution_count": 44,
   "metadata": {},
   "outputs": [
    {
     "name": "stdout",
     "output_type": "stream",
     "text": [
      "Our dumb boy is student202 with a score 65.4 and our badass is student733 with a score 86.2\n"
     ]
    }
   ],
   "source": [
    "max_value = max(avg)\n",
    "max_index = avg.index(max_value)\n",
    "min_value = min(avg)\n",
    "min_index = avg.index(min_value)\n",
    "print(f\"Our dumb boy is {names[min_index]} with a score {min_value} and our badass is {names[max_index]} with a score {max_value}\")\n"
   ]
  },
  {
   "cell_type": "code",
   "execution_count": 6,
   "metadata": {},
   "outputs": [
    {
     "ename": "IndexError",
     "evalue": "list index out of range",
     "output_type": "error",
     "traceback": [
      "\u001b[0;31m---------------------------------------------------------------------------\u001b[0m",
      "\u001b[0;31mIndexError\u001b[0m                                Traceback (most recent call last)",
      "\u001b[1;32m/Users/chitralpatil/Documents/Zia/Gradescope/assignment3/playground.ipynb Cell 35\u001b[0m in \u001b[0;36m<cell line: 10>\u001b[0;34m()\u001b[0m\n\u001b[1;32m      <a href='vscode-notebook-cell:/Users/chitralpatil/Documents/Zia/Gradescope/assignment3/playground.ipynb#X46sZmlsZQ%3D%3D?line=7'>8</a>\u001b[0m numbers\u001b[39m.\u001b[39msort()\n\u001b[1;32m      <a href='vscode-notebook-cell:/Users/chitralpatil/Documents/Zia/Gradescope/assignment3/playground.ipynb#X46sZmlsZQ%3D%3D?line=8'>9</a>\u001b[0m midpoint \u001b[39m=\u001b[39m \u001b[39mlen\u001b[39m(numbers) \u001b[39m/\u001b[39m\u001b[39m/\u001b[39m \u001b[39m2\u001b[39m\n\u001b[0;32m---> <a href='vscode-notebook-cell:/Users/chitralpatil/Documents/Zia/Gradescope/assignment3/playground.ipynb#X46sZmlsZQ%3D%3D?line=9'>10</a>\u001b[0m median \u001b[39m=\u001b[39m (numbers[midpoint] \u001b[39m+\u001b[39m numbers[midpoint]) \u001b[39m/\u001b[39m \u001b[39m2\u001b[39m\n\u001b[1;32m     <a href='vscode-notebook-cell:/Users/chitralpatil/Documents/Zia/Gradescope/assignment3/playground.ipynb#X46sZmlsZQ%3D%3D?line=10'>11</a>\u001b[0m median\n",
      "\u001b[0;31mIndexError\u001b[0m: list index out of range"
     ]
    }
   ],
   "source": [
    "numbers = []\n",
    "with open(\"ex19_data_3.txt\", \"r\") as raw_file:\n",
    "    for line in raw_file.readlines():\n",
    "        try:\n",
    "            numbers.append(float(line))\n",
    "        except:\n",
    "            pass\n",
    "numbers.sort()\n",
    "midpoint = len(numbers) // 2\n",
    "median = (numbers[midpoint] + numbers[midpoint]) / 2\n",
    "median "
   ]
  },
  {
   "cell_type": "code",
   "execution_count": 9,
   "metadata": {},
   "outputs": [
    {
     "data": {
      "text/plain": [
       "2"
      ]
     },
     "execution_count": 9,
     "metadata": {},
     "output_type": "execute_result"
    }
   ],
   "source": [
    "a = [1, 2, 3,4,5]\n",
    "asd = len(a) // 2\n",
    "asd"
   ]
  },
  {
   "cell_type": "code",
   "execution_count": 35,
   "metadata": {},
   "outputs": [
    {
     "name": "stdout",
     "output_type": "stream",
     "text": [
      "By sticking to the first guess you won 2494 times and by picking a new one you won 2464 times\n",
      "\n",
      "Win by sticking prob is 0.2494 and pick win is 0.2464\n"
     ]
    }
   ],
   "source": [
    "import random\n",
    "envelope = [0, 1]\n",
    "outcome = []\n",
    "pick = 0\n",
    "stick = 0\n",
    "for i in range(10000):\n",
    "    first_rand_num = random.randint(0, 1)\n",
    "\n",
    "    # If will be entered if we choose to pick new one\n",
    "    if (random.randint(0, 1)):\n",
    "        if (first_rand_num == 0):\n",
    "            outcome.append(1)\n",
    "            pick += 1\n",
    "\n",
    "        else:\n",
    "            outcome.append(0)\n",
    "    else:\n",
    "        if first_rand_num == 1:\n",
    "            stick += 1\n",
    "        outcome.append(envelope[first_rand_num])\n",
    "\n",
    "\n",
    "print(\n",
    "    f\"By sticking to the first guess you won {stick} times and by picking a new one you won {pick} times\\n\")\n",
    "\n",
    "print(f\"Win by sticking prob is {stick/10000} and pick win is {pick/10000}\")\n"
   ]
  },
  {
   "cell_type": "code",
   "execution_count": 36,
   "metadata": {},
   "outputs": [],
   "source": [
    "def simulateProblem():\n",
    "    import random \n",
    "    first_choice = random.randint(0, 1)\n",
    "\n",
    "    # we'll enter the if condition if we wish to switch the card \n",
    "    if (random.randint(0, 1)):\n",
    "        if first_choice == 0:\n",
    "            return [True, False]\n",
    "        else:\n",
    "            return [False, True]\n",
    "    # Else condition deals with the case where we don't wish to pick a new card but stick to the first choice\n",
    "    else:\n",
    "        if first_choice == 0:\n",
    "            return [False, False]\n",
    "        else:\n",
    "            return [False, True]    \n"
   ]
  },
  {
   "cell_type": "code",
   "execution_count": 49,
   "metadata": {},
   "outputs": [
    {
     "name": "stdout",
     "output_type": "stream",
     "text": [
      "[False, True]\n"
     ]
    }
   ],
   "source": [
    "def fixed_length(text, length):\n",
    "    if len(text) > length:\n",
    "        text = text[:length]\n",
    "    elif len(text) < length:\n",
    "        initial_spaces = length//text\n",
    "        text = (\" \" * {initial_spaces} + text + \" \" * length)[:length]\n",
    "    return text\n",
    "\n",
    "  \n",
    "for attribute in header:\n",
    "    print(fixed_length(attribute, max_length), end=\"  \")\n",
    "print()"
   ]
  },
  {
   "cell_type": "code",
   "execution_count": 24,
   "metadata": {},
   "outputs": [
    {
     "data": {
      "text/plain": [
       "6"
      ]
     },
     "execution_count": 24,
     "metadata": {},
     "output_type": "execute_result"
    }
   ],
   "source": [
    "data = (((1, 2), (1, 2, 3, 4)), ((5, 6, 7, 8, 9, 20), (1,2)))\n",
    "max_length = 0\n",
    "for row_data in data:\n",
    "    if len(max(row_data, key=len)) > max_length:\n",
    "        max_length = len(max(row_data, key=len))\n",
    "max_length\n",
    "\n"
   ]
  },
  {
   "cell_type": "code",
   "execution_count": 20,
   "metadata": {},
   "outputs": [
    {
     "name": "stdout",
     "output_type": "stream",
     "text": [
      "((1, 2), (1, 2, 3, 4))\n",
      "((5, 6, 7, 8, 9, 20), 1)\n"
     ]
    }
   ],
   "source": [
    "for tuple in data:\n",
    "    for maal in tuple: \n",
    "        print(maal, end= \" \")\n",
    "    print()"
   ]
  },
  {
   "cell_type": "code",
   "execution_count": 28,
   "metadata": {},
   "outputs": [
    {
     "name": "stdout",
     "output_type": "stream",
     "text": [
      "a\n"
     ]
    }
   ],
   "source": [
    "ads = print(\"a\")\n",
    "ads "
   ]
  },
  {
   "cell_type": "code",
   "execution_count": 5,
   "metadata": {},
   "outputs": [],
   "source": [
    "with open(\"hello.txt\", \"w\") as file:\n",
    "    for tuple in data:\n",
    "        file.write(f\"-\" * 3)\n",
    "    "
   ]
  },
  {
   "cell_type": "code",
   "execution_count": 6,
   "metadata": {},
   "outputs": [
    {
     "name": "stdout",
     "output_type": "stream",
     "text": [
      "[14, 7, 5, 21, 9, 4, 3, 16, 9, 4, 3, 16]\n",
      "26\n"
     ]
    }
   ],
   "source": [
    "def ex15(title=\"Many Chitrals\", header=(\"Name\", \"AgAAe\", \"Sex\"), data=((\"Chitaaaaaral\", 21, \"M\"), (\"Chitral\", \"21\", \"M\"), (\"Chitral\", \"21\", \"M\")), filename=\"hello.txt\"):\n",
    "    # This problem is hard.\n",
    "    # Open up ex15_*_solution.txt and look at the output based on the input parameters, which\n",
    "    # can be found in the test_assignment4.py file\n",
    "    # Function inputs:\n",
    "    # title -- title of the table -- a string\n",
    "    # header -- header of the table  -- a tuple\n",
    "    # data -- rows of data, which is a tuple of tuples\n",
    "    # filename -- name of file to write the table to\n",
    "    # Your job is to create the table in the file and write it to `filename`\n",
    "    # Note that you need to dynamically figure out the width of each column based on\n",
    "    # maximum possible length based on the header and data. This is what makes this problem hard.\n",
    "    # Once you have determined the maximum length of each column, make sure to pad it with 1 space\n",
    "    # to the right and left. Center align all the values.\n",
    "    # OUTPUT: you are writing the table to a file\n",
    "\n",
    "    # BEGIN SOLUTION\n",
    "    lens = []\n",
    "    for tuple in data:\n",
    "        summ = 0\n",
    "        for i in range(len(tuple)):\n",
    "            lens.append(len(str(tuple[i])) + 2)\n",
    "            summ += len(str(tuple[i])) + 2\n",
    "        lens.append(summ)\n",
    "    \n",
    "    lens2 = []\n",
    "    for header_name in header:\n",
    "        lens2.append(len(str(header_name)) + 2)\n",
    "    for i in range(len(header)):\n",
    "        if lens2[i] > lens[i]:\n",
    "            lens[i] = lens2[i]\n",
    "        else:\n",
    "            lens[i] = lens[i]\n",
    "\n",
    "    max_length = sum(lens[:len(header)])\n",
    "    print(lens)\n",
    "    print(max_length)\n",
    "\n",
    "\n",
    "    with open(filename, \"w\") as file:\n",
    "\n",
    "        # Writing the  horizontal line\n",
    "        \n",
    "        file.write(f\"-\"*((  max_length + 4 )))\n",
    "        file.write(\"\\n\")\n",
    "\n",
    "        # Putting in the title\n",
    "        file.write(\"|\")\n",
    "        file.write(f\"{title.center(( max_length + 2 ))}\")\n",
    "        file.write(\"|\")\n",
    "        file.write(\"\\n\")\n",
    "\n",
    "        # Writing the  horizontal line\n",
    "        for i in range(1):\n",
    "            for j in range(len(data[i])):\n",
    "                if (j == (len(header) - 1)):\n",
    "                    file.write(\"+\")\n",
    "                    file.write(f\"-\"*(lens[j]))\n",
    "                    file.write(\"+\")\n",
    "                else:\n",
    "                    file.write(\"+\")\n",
    "                    file.write(f\"-\"*(lens[j]))\n",
    "            file.write(\"\\n\")\n",
    "\n",
    "        # Writing the column names\n",
    "        i = 1\n",
    "        for j in range(len(data[i])):\n",
    "            if (j == (len(header) - 1)):\n",
    "                file.write(\"|\")\n",
    "                file.write(f\"{header[j].center((lens[j]))}\")\n",
    "                file.write(\"|\")\n",
    "            else:\n",
    "                file.write(\"|\")\n",
    "                file.write(f\"{header[j].center((lens[j]))}\")\n",
    "        file.write(\"\\n\")\n",
    "\n",
    "        # Writing the  horizontal line\n",
    "        for i in range(1):\n",
    "            for j in range(len(data[i])):\n",
    "                if (j == (len(header) - 1)):\n",
    "                    file.write(\"+\")\n",
    "                    file.write(f\"-\"*(lens[j]))\n",
    "                    file.write(\"+\")\n",
    "                else:\n",
    "                    file.write(\"+\")\n",
    "                    file.write(f\"-\"*(lens[j]))\n",
    "            file.write(\"\\n\")\n",
    "\n",
    "        # Writing the data\n",
    "        for i in range(len(data)):\n",
    "            for j in range(len(data[i])):\n",
    "                if (j == (len(header) - 1)):\n",
    "                    file.write(\"|\")\n",
    "                    file.write(f\"{str(data[i][j]).center((lens[j]))}\")\n",
    "                    file.write(\"|\")\n",
    "                else:\n",
    "                    file.write(\"|\")\n",
    "                    file.write(f\"{str(data[i][j]).center((lens[j]))}\")\n",
    "            file.write(\"\\n\")\n",
    "\n",
    "        # Writing the last horizontal line\n",
    "        for i in range(1):\n",
    "            for j in range(len(data[i])):\n",
    "                if (j == (len(header) - 1)):\n",
    "                    file.write(\"+\")\n",
    "                    file.write(f\"-\"*(lens[j]))\n",
    "                    file.write(\"+\")\n",
    "                else:\n",
    "                    file.write(\"+\")\n",
    "                    file.write(f\"-\"*(lens[j]))\n",
    "            file.write(\"\\n\")\n",
    "\n",
    "\n",
    "    # END SOLUTION\n",
    "ex15()\n"
   ]
  },
  {
   "cell_type": "code",
   "execution_count": 164,
   "metadata": {},
   "outputs": [
    {
     "ename": "TypeError",
     "evalue": "object of type 'int' has no len()",
     "output_type": "error",
     "traceback": [
      "\u001b[0;31m---------------------------------------------------------------------------\u001b[0m",
      "\u001b[0;31mTypeError\u001b[0m                                 Traceback (most recent call last)",
      "\u001b[1;32m/Users/chitralpatil/Documents/Zia/Gradescope/assignment3/playground.ipynb Cell 45\u001b[0m in \u001b[0;36m<cell line: 4>\u001b[0;34m()\u001b[0m\n\u001b[1;32m      <a href='vscode-notebook-cell:/Users/chitralpatil/Documents/Zia/Gradescope/assignment3/playground.ipynb#X63sZmlsZQ%3D%3D?line=4'>5</a>\u001b[0m     \u001b[39msum\u001b[39m \u001b[39m=\u001b[39m \u001b[39m0\u001b[39m\n\u001b[1;32m      <a href='vscode-notebook-cell:/Users/chitralpatil/Documents/Zia/Gradescope/assignment3/playground.ipynb#X63sZmlsZQ%3D%3D?line=5'>6</a>\u001b[0m     \u001b[39mfor\u001b[39;00m i \u001b[39min\u001b[39;00m \u001b[39mrange\u001b[39m(\u001b[39mlen\u001b[39m(maal)):\n\u001b[0;32m----> <a href='vscode-notebook-cell:/Users/chitralpatil/Documents/Zia/Gradescope/assignment3/playground.ipynb#X63sZmlsZQ%3D%3D?line=6'>7</a>\u001b[0m         \u001b[39msum\u001b[39m\u001b[39m+\u001b[39m\u001b[39m=\u001b[39m\u001b[39mlen\u001b[39;49m(maal[i]) \u001b[39m+\u001b[39m \u001b[39m2\u001b[39m\n\u001b[1;32m      <a href='vscode-notebook-cell:/Users/chitralpatil/Documents/Zia/Gradescope/assignment3/playground.ipynb#X63sZmlsZQ%3D%3D?line=7'>8</a>\u001b[0m     lens\u001b[39m.\u001b[39mappend(\u001b[39msum\u001b[39m)    \n\u001b[1;32m      <a href='vscode-notebook-cell:/Users/chitralpatil/Documents/Zia/Gradescope/assignment3/playground.ipynb#X63sZmlsZQ%3D%3D?line=8'>9</a>\u001b[0m max_length \u001b[39m=\u001b[39m \u001b[39mmax\u001b[39m(lens)\n",
      "\u001b[0;31mTypeError\u001b[0m: object of type 'int' has no len()"
     ]
    }
   ],
   "source": [
    "data=((\"Chitral\", 21, \"M\"),(\"Chitral\", \"21\", \"M\"),(\"Chitral\", \"21\", \"M\") )\n",
    "\n",
    "lens = []\n",
    "for maal in data: \n",
    "    sum = 0\n",
    "    for i in range(len(maal)):\n",
    "        sum+=len(maal[i]) + 2\n",
    "    lens.append(sum)    \n",
    "max_length = max(lens)\n",
    "max_length\n",
    "                                        "
   ]
  },
  {
   "cell_type": "code",
   "execution_count": 28,
   "metadata": {},
   "outputs": [
    {
     "data": {
      "text/plain": [
       "3"
      ]
     },
     "execution_count": 28,
     "metadata": {},
     "output_type": "execute_result"
    }
   ],
   "source": [
    "horizonal_chars = 10\n",
    "\n",
    "horizonal_chars // (len(data))"
   ]
  },
  {
   "cell_type": "code",
   "execution_count": 77,
   "metadata": {},
   "outputs": [
    {
     "ename": "SyntaxError",
     "evalue": "invalid syntax (3117332873.py, line 31)",
     "output_type": "error",
     "traceback": [
      "\u001b[0;36m  Input \u001b[0;32mIn [77]\u001b[0;36m\u001b[0m\n\u001b[0;31m    newData = []for row in data:\u001b[0m\n\u001b[0m                ^\u001b[0m\n\u001b[0;31mSyntaxError\u001b[0m\u001b[0;31m:\u001b[0m invalid syntax\n"
     ]
    }
   ],
   "source": [
    "def ex15(title=\"Student Dataa\", header=(\"Name\", \"Age\", \"Sex\"), data=((\"Chitral\", \"21\", \"M\"), (\"Chitral\", \"21\", \"M\"), (\"Chitral\", \"21\", \"M\")), filename=\"hello.txt\"):\n",
    "    # This problem is hard.\n",
    "    # Open up ex15_*_solution.txt and look at the output based on the input parameters, which\n",
    "    # can be found in the test_assignment4.py file\n",
    "    # Function inputs:\n",
    "    # title -- title of the table -- a string\n",
    "    # header -- header of the table  -- a tuple\n",
    "    # data -- rows of data, which is a tuple of tuples\n",
    "    # filename -- name of file to write the table to\n",
    "    # Your job is to create the table in the file and write it to `filename`\n",
    "    # Note that you need to dynamically figure out the width of each column based on\n",
    "    # maximum possible length based on the header and data. This is what makes this problem hard.\n",
    "    # Once you have determined the maximum length of each column, make sure to pad it with 1 space\n",
    "    # to the right and left. Center align all the values.\n",
    "    # OUTPUT: you are writing the table to a file\n",
    "\n",
    "    # BEGIN SOLUTION\n",
    "    r = len(data[0])\n",
    "    colWidth = [0] * r\n",
    "    for row in data:\n",
    "        for i,cell in enumerate(row):\n",
    "            cell = str(cell)\n",
    "            colWidth[i] = max(colWidth[i], len(cell))\n",
    "    for i,x in enumerate(header):\n",
    "        x = str(x)\n",
    "        colWidth[i] = max(colWidth[i], len(cell))\n",
    "    colWidth = [i+2 for i in colWidth]\n",
    "    newHeader = []\n",
    "    for i,h in enumerate(header):\n",
    "        newHeader.append((str(h).center(colWidth[i]) ))     \n",
    "    newData = []for row in data: \n",
    "    d = [ ]      \n",
    "\n",
    "\n",
    "\n",
    "    # END SOLUTION\n",
    "ex15()\n"
   ]
  }
 ],
 "metadata": {
  "kernelspec": {
   "display_name": "Python 3.9.12 ('base')",
   "language": "python",
   "name": "python3"
  },
  "language_info": {
   "codemirror_mode": {
    "name": "ipython",
    "version": 3
   },
   "file_extension": ".py",
   "mimetype": "text/x-python",
   "name": "python",
   "nbconvert_exporter": "python",
   "pygments_lexer": "ipython3",
   "version": "3.9.12"
  },
  "orig_nbformat": 4,
  "vscode": {
   "interpreter": {
    "hash": "cd78fef2128015050713e82ca51c6520b11aee7c9ee8df750520bbbc7384cbaa"
   }
  }
 },
 "nbformat": 4,
 "nbformat_minor": 2
}
