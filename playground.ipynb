{
 "cells": [
  {
   "cell_type": "code",
   "execution_count": 10,
   "metadata": {},
   "outputs": [],
   "source": [
    "def ex1(password):\n",
    "    # In this exercise you will complete this function to determine whether or not\n",
    "    # a password is good. We will define a good password to be a one that is at least\n",
    "    # 8 characters long and contains at least one uppercase letter, at least one lowercase\n",
    "    # letter, at least one number, and at least one of the following special characters (!, @, #, $, ^).\n",
    "    # This function should return True if the password\n",
    "    # passed to it as its only parameter is good. Otherwise it should return False.\n",
    "    #\n",
    "    # input: password (str)\n",
    "    # output: True or False (bool)\n",
    "    # BEGIN SOLUTION\n",
    "    special_char = [\"!\", \"@\", \"#\", \"$\", \"^\"]\n",
    "\n",
    "    for char in password:\n",
    "        if char in special_char:\n",
    "            has_special_char = True\n",
    "            break\n",
    "        else:\n",
    "            has_special_char = False\n",
    "\n",
    "    if len(password) > 7:\n",
    "        pass_len_7plus = True\n",
    "    else:\n",
    "        pass_len_7plus = False\n",
    "\n",
    "    if not password.islower() and not password.isupper() and pass_len_7plus and has_special_char:\n",
    "        return True\n",
    "    else:\n",
    "        return False\n"
   ]
  },
  {
   "cell_type": "code",
   "execution_count": 14,
   "metadata": {},
   "outputs": [
    {
     "name": "stdout",
     "output_type": "stream",
     "text": [
      "True\n"
     ]
    }
   ],
   "source": [
    "print(ex1(\"Aasdds$a\"))"
   ]
  },
  {
   "cell_type": "code",
   "execution_count": null,
   "metadata": {},
   "outputs": [],
   "source": [
    "def ex2(sentence):\n",
    "    # Complete this function to calculate the average\n",
    "    # word length in a sentence\n",
    "    # Input: sentence\n",
    "    # Output: average word length in sentence\n",
    "    # Hint: count punctuations with whatever word they are `touching`\n",
    "    # Hint: round the average to two decimal places\n",
    "\n",
    "    # BEGIN SOLUTION\n",
    "    word_len = []\n",
    "\n",
    "    list_of_words = sentence.split()\n",
    "    for word in list_of_words:\n",
    "        word_len.append(len(word))\n",
    "\n",
    "    average_word_len = round(sum(word_len) / len(word_len), 2)\n",
    "    return average_word_len\n",
    "\n",
    "# END SOLUTION\n"
   ]
  },
  {
   "cell_type": "code",
   "execution_count": 18,
   "metadata": {},
   "outputs": [
    {
     "data": {
      "text/plain": [
       "2.0"
      ]
     },
     "execution_count": 18,
     "metadata": {},
     "output_type": "execute_result"
    }
   ],
   "source": [
    "sentence = \"as as as a! a#\"\n",
    "word_len = []\n",
    "list_of_words = sentence.split()\n",
    "for word in list_of_words:\n",
    "    word_len.append(len(word))\n",
    "average_word_len = round(sum(word_len) / len(word_len), 2)\n",
    "average_word_len\n"
   ]
  },
  {
   "cell_type": "code",
   "execution_count": null,
   "metadata": {},
   "outputs": [],
   "source": []
  }
 ],
 "metadata": {
  "kernelspec": {
   "display_name": "Python 3.9.12 ('base')",
   "language": "python",
   "name": "python3"
  },
  "language_info": {
   "codemirror_mode": {
    "name": "ipython",
    "version": 3
   },
   "file_extension": ".py",
   "mimetype": "text/x-python",
   "name": "python",
   "nbconvert_exporter": "python",
   "pygments_lexer": "ipython3",
   "version": "3.9.12"
  },
  "orig_nbformat": 4,
  "vscode": {
   "interpreter": {
    "hash": "cd78fef2128015050713e82ca51c6520b11aee7c9ee8df750520bbbc7384cbaa"
   }
  }
 },
 "nbformat": 4,
 "nbformat_minor": 2
}
