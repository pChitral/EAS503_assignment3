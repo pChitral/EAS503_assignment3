{
 "cells": [
  {
   "cell_type": "code",
   "execution_count": 8,
   "metadata": {},
   "outputs": [],
   "source": [
    "def ex1(password):\n",
    "    # In this exercise you will complete this function to determine whether or not\n",
    "    # a password is good. We will define a good password to be a one that is at least\n",
    "    # 8 characters long and contains at least one uppercase letter, at least one lowercase\n",
    "    # letter, at least one number, and at least one of the following special characters (!, @, #, $, ^).\n",
    "    # This function should return True if the password\n",
    "    # passed to it as its only parameter is good. Otherwise it should return False.\n",
    "    #\n",
    "    # input: password (str)\n",
    "    # output: True or False (bool)\n",
    "    # BEGIN SOLUTION\n",
    "    special_char = [\"!\", \"@\", \"#\", \"$\", \"^\"]\n",
    "\n",
    "    for char in password:\n",
    "        if char in special_char:\n",
    "            has_special_char = True\n",
    "            break\n",
    "        else:\n",
    "            has_special_char = False\n",
    "\n",
    "    if len(password) > 7:\n",
    "        pass_len_7plus = True\n",
    "    else:\n",
    "        pass_len_7plus = False\n",
    "\n",
    "    if not password.islower() and not password.isupper() and pass_len_7plus and has_special_char:\n",
    "        return True\n",
    "    else:\n",
    "        return False\n"
   ]
  },
  {
   "cell_type": "code",
   "execution_count": 9,
   "metadata": {},
   "outputs": [
    {
     "name": "stdout",
     "output_type": "stream",
     "text": [
      "True\n"
     ]
    }
   ],
   "source": [
    "print(ex1(\"Aasdds$a\"))"
   ]
  },
  {
   "cell_type": "code",
   "execution_count": 10,
   "metadata": {},
   "outputs": [],
   "source": [
    "def ex2(sentence):\n",
    "    # Complete this function to calculate the average\n",
    "    # word length in a sentence\n",
    "    # Input: sentence\n",
    "    # Output: average word length in sentence\n",
    "    # Hint: count punctuations with whatever word they are `touching`\n",
    "    # Hint: round the average to two decimal places\n",
    "\n",
    "    # BEGIN SOLUTION\n",
    "    word_len = []\n",
    "\n",
    "    list_of_words = sentence.split()\n",
    "    for word in list_of_words:\n",
    "        word_len.append(len(word))\n",
    "\n",
    "    average_word_len = round(sum(word_len) / len(word_len), 2)\n",
    "    return average_word_len\n",
    "\n",
    "# END SOLUTION\n"
   ]
  },
  {
   "cell_type": "code",
   "execution_count": 11,
   "metadata": {},
   "outputs": [
    {
     "data": {
      "text/plain": [
       "2.0"
      ]
     },
     "execution_count": 11,
     "metadata": {},
     "output_type": "execute_result"
    }
   ],
   "source": [
    "sentence = \"as as as a! a#\"\n",
    "word_len = []\n",
    "list_of_words = sentence.split()\n",
    "for word in list_of_words:\n",
    "    word_len.append(len(word))\n",
    "average_word_len = round(sum(word_len) / len(word_len), 2)\n",
    "average_word_len\n"
   ]
  },
  {
   "cell_type": "code",
   "execution_count": 12,
   "metadata": {},
   "outputs": [],
   "source": [
    "def ex3(filename):\n",
    "    # Complete this function to count the number of lines, words, and chars in a file.\n",
    "    # Input: filename\n",
    "    # Output: a tuple with line count, word count, and char count -- in this order\n",
    "\n",
    "    # BEGIN SOLUTION\n",
    "    pass\n",
    "    # END SOLUTION"
   ]
  },
  {
   "cell_type": "code",
   "execution_count": 13,
   "metadata": {},
   "outputs": [
    {
     "name": "stdout",
     "output_type": "stream",
     "text": [
      "<_io.TextIOWrapper name='ex3_data.txt' mode='r' encoding='UTF-8'>\n"
     ]
    },
    {
     "ename": "AttributeError",
     "evalue": "'_io.TextIOWrapper' object has no attribute 'split'",
     "output_type": "error",
     "traceback": [
      "\u001b[0;31m---------------------------------------------------------------------------\u001b[0m",
      "\u001b[0;31mAttributeError\u001b[0m                            Traceback (most recent call last)",
      "\u001b[1;32m/Users/chitralpatil/Documents/Zia/Gradescope/assignment3/playground.ipynb Cell 6\u001b[0m in \u001b[0;36m<cell line: 3>\u001b[0;34m()\u001b[0m\n\u001b[1;32m      <a href='vscode-notebook-cell:/Users/chitralpatil/Documents/Zia/Gradescope/assignment3/playground.ipynb#W5sZmlsZQ%3D%3D?line=3'>4</a>\u001b[0m     maal \u001b[39m=\u001b[39m file\n\u001b[1;32m      <a href='vscode-notebook-cell:/Users/chitralpatil/Documents/Zia/Gradescope/assignment3/playground.ipynb#W5sZmlsZQ%3D%3D?line=4'>5</a>\u001b[0m     \u001b[39mprint\u001b[39m(file)\n\u001b[0;32m----> <a href='vscode-notebook-cell:/Users/chitralpatil/Documents/Zia/Gradescope/assignment3/playground.ipynb#W5sZmlsZQ%3D%3D?line=5'>6</a>\u001b[0m     list_of_lines \u001b[39m=\u001b[39m maal\u001b[39m.\u001b[39;49msplit(\u001b[39m\"\u001b[39m\u001b[39m.\u001b[39m\u001b[39m\"\u001b[39m)\n\u001b[1;32m      <a href='vscode-notebook-cell:/Users/chitralpatil/Documents/Zia/Gradescope/assignment3/playground.ipynb#W5sZmlsZQ%3D%3D?line=6'>7</a>\u001b[0m \u001b[39mprint\u001b[39m(list_of_lines)\n",
      "\u001b[0;31mAttributeError\u001b[0m: '_io.TextIOWrapper' object has no attribute 'split'"
     ]
    }
   ],
   "source": [
    "filename = \"ex3_data.txt\"\n",
    "\n",
    "with open(filename, 'r') as file:\n",
    "    maal = file\n",
    "    print(file)\n",
    "    list_of_lines = maal.split(\".\")\n",
    "print(list_of_lines)    \n"
   ]
  },
  {
   "cell_type": "code",
   "execution_count": null,
   "metadata": {},
   "outputs": [
    {
     "name": "stdout",
     "output_type": "stream",
     "text": [
      "(83, 665, 3540)\n"
     ]
    }
   ],
   "source": [
    "filename = \"ex3_data.txt\"\n",
    "\n",
    "with open(filename, \"r\") as raw_file:\n",
    "    entire_file = raw_file.read()\n",
    "\n",
    "list_of_lines = entire_file.split(\".\")\n",
    "\n",
    "\"\"\" \n",
    "Splitting on \".\" will give us an empty string in the last which indeed would be counted as a line. \n",
    "Thus, to get rid of that empty string we rewrite our list without considering that empty string.\n",
    "\"\"\"\n",
    "list_of_lines = list_of_lines[:len(list_of_lines)-1]\n",
    "number_of_lines = len(list_of_lines) # part 1 of the question done\n",
    "\n",
    "# Before doing anything, lets strip out the spaces and get rid of the unnecessary characters, which may skew the results.\n",
    "for i in range(len(list_of_lines)):\n",
    "    list_of_lines[i] = list_of_lines[i].replace(\"\\n\", \" \").strip()\n",
    "\n",
    "# Here we'll count the total number of words in a line using a for loop\n",
    "number_of_words = 0\n",
    "\n",
    "# Lets calulate the list of list of words first \n",
    "list_of_list_of_words = []\n",
    "\n",
    "for line in list_of_lines:\n",
    "    list_of_list_of_words.append(line.split(\" \"))\n",
    "\n",
    "# Now we'll calculate the total number of words     \n",
    "number_of_words = 0\n",
    "for line in list_of_list_of_words:\n",
    "    number_of_words+= len(line)\n",
    "\n",
    "number_of_characters = 0\n",
    "\n",
    "for list_of_wordss in list_of_list_of_words:\n",
    "    for word in list_of_wordss:\n",
    "        number_of_characters+= len(word)\n",
    "\n",
    "final_answer_tuple = (number_of_lines, number_of_words, number_of_characters)\n",
    "print(final_answer_tuple)"
   ]
  },
  {
   "cell_type": "code",
   "execution_count": null,
   "metadata": {},
   "outputs": [
    {
     "name": "stdout",
     "output_type": "stream",
     "text": [
      "['Lorem ipsum dolor sit amet, consectetur adipiscing elit, sed do eiusmod tempor ', 'incididunt ut labore et dolore magna aliqua. Quis commodo odio aenean sed ', 'adipiscing diam donec adipiscing. Consequat interdum varius sit amet. Sem ', 'viverra aliquet eget sit. Et tortor consequat id porta nibh venenatis cras ', 'sed felis. Fermentum odio eu feugiat pretium nibh ipsum consequat nisl vel. ', 'Adipiscing elit ut aliquam purus sit amet luctus venenatis. Tincidunt ornare ', 'massa eget egestas purus viverra accumsan in. Purus viverra accumsan in nisl nisi. ', 'Imperdiet massa tincidunt nunc pulvinar sapien et ligula. Et ligula ullamcorper malesuada ', 'proin libero. Eget gravida cum sociis natoque penatibus et magnis. Natoque penatibus et magnis ', 'dis parturient montes nascetur. Ipsum consequat nisl vel pretium lectus. Rhoncus dolor purus ', 'non enim praesent. Posuere morbi leo urna molestie. Ut consequat semper viverra nam. Faucibus ', 'interdum posuere lorem ipsum dolor. Tincidunt nunc pulvinar sapien et ligula ullamcorper malesuada proin libero.', '', 'Integer malesuada nunc vel risus. Arcu non odio euismod lacinia at quis risus. Ultrices neque', 'ornare aenean euismod elementum nisi quis eleifend quam. Cursus risus at ultrices mi tempus imperdiet. ', 'Sapien nec sagittis aliquam malesuada bibendum. Sem fringilla ut morbi tincidunt augue interdum velit ', 'euismod. Volutpat est velit egestas dui id. Nisi est sit amet facilisis magna. Netus et malesuada fames', 'ac turpis egestas. Pellentesque elit eget gravida cum. Urna molestie at elementum eu.', 'Nulla aliquet porttitor lacus luctus accumsan tortor. Nisl nisi scelerisque eu ultrices ', 'vitae auctor eu augue ut. Adipiscing elit ut aliquam purus. Pharetra vel turpis nunc eget', 'lorem dolor sed viverra ipsum. Pharetra vel turpis nunc eget lorem dolor sed viverra ipsum. ', 'A cras semper auctor neque vitae tempus quam pellentesque.', '', 'Sem fringilla ut morbi tincidunt augue interdum. Ac ut consequat semper viverra nam ', 'libero justo laoreet sit. Vulputate mi sit amet mauris commodo quis imperdiet massa tincidunt. ', 'Ac turpis egestas integer eget aliquet. Id nibh tortor id aliquet lectus proin nibh nisl. Urna ', 'nec tincidunt praesent semper feugiat nibh sed pulvinar proin. Tincidunt arcu non sodales neque ', 'sodales. Nulla malesuada pellentesque elit eget gravida cum sociis natoque penatibus. Risus feugiat', 'in ante metus dictum at tempor. Sed velit dignissim sodales ut. Bibendum neque egestas congue quisque ', 'egestas diam. Cras sed felis eget velit aliquet. Elit ullamcorper dignissim cras tincidunt lobortis ', 'feugiat vivamus at augue. Aliquet bibendum enim facilisis gravida neque. Diam sollicitudin tempor', 'id eu nisl nunc mi. Mauris ultrices eros in cursus turpis. Pellentesque id nibh tortor id.', '', 'Molestie ac feugiat sed lectus vestibulum mattis ullamcorper velit sed. Tincidunt arcu non sodales ', 'neque sodales. Et netus et malesuada fames ac turpis. Leo a diam sollicitudin tempor id eu nisl nunc ', 'mi. In aliquam sem fringilla ut morbi tincidunt augue. Ultrices neque ornare aenean euismod elementum', 'nisi quis. Integer quis auctor elit sed. Amet tellus cras adipiscing enim eu. Nisl suscipit ', 'adipiscing bibendum est ultricies integer quis auctor elit. Eu tincidunt tortor aliquam nulla. ', 'Leo a diam sollicitudin tempor id eu. Cum sociis natoque penatibus et magnis dis parturient montes ', 'nascetur. Tortor posuere ac ut consequat semper. Morbi tristique senectus et netus et malesuada ', 'fames ac turpis. Et netus et malesuada fames ac. Lacus vel facilisis volutpat est velit egestas dui.', '', 'Sit amet risus nullam eget felis eget nunc lobortis mattis. Eu lobortis elementum nibh tellus', 'molestie nunc non blandit massa. Sit amet mauris commodo quis imperdiet massa tincidunt nunc pulvinar.', 'Venenatis cras sed felis eget velit. Senectus et netus et malesuada. In pellentesque massa placerat', 'duis ultricies lacus. Non quam lacus suspendisse faucibus interdum posuere lorem ipsum dolor. Vulputate enim', 'nulla aliquet porttitor lacus luctus. Lobortis feugiat vivamus at augue eget arcu dictum varius duis. ', 'A diam maecenas sed enim ut sem viverra aliquet. Fames ac turpis egestas sed tempus urna et pharetra.', 'Consequat mauris nunc congue nisi vitae suscipit tellus mauris. Sem fringilla ut morbi tincidunt augue ', 'interdum velit euismod. Tristique risus nec feugiat in fermentum.']\n",
      "(50, 50, 3623)\n"
     ]
    }
   ],
   "source": [
    "filename = \"ex3_data.txt\"\n",
    "\n",
    "with open(filename, \"r\") as raw_file:\n",
    "    entire_file = raw_file.read()\n",
    "\n",
    "list_of_lines = entire_file.split(\"\\n\")\n",
    "print(list_of_lines)\n",
    "\n",
    "number_of_lines = len(list_of_lines) # part 1 of the question done\n",
    "\n",
    "# Before doing anything, lets strip out the spaces and get rid of the unnecessary characters, which may skew the results.\n",
    "for i in range(len(list_of_lines)):\n",
    "    list_of_lines[i] = list_of_lines[i].replace(\" \", \"\").strip()\n",
    "\n",
    "# Here we'll count the total number of words in a line using a for loop\n",
    "number_of_words = 0\n",
    "\n",
    "# Lets calulate the list of list of words first \n",
    "list_of_list_of_words = []\n",
    "\n",
    "for line in list_of_lines:\n",
    "    list_of_list_of_words.append(line.split(\" \"))\n",
    "\n",
    "# Now we'll calculate the total number of words     \n",
    "number_of_words = 0\n",
    "for line in list_of_list_of_words:\n",
    "    number_of_words+= len(line)\n",
    "\n",
    "number_of_characters = 0\n",
    "\n",
    "for list_of_wordss in list_of_list_of_words:\n",
    "    for word in list_of_wordss:\n",
    "        number_of_characters+= len(word)\n",
    "\n",
    "final_answer_tuple = (number_of_lines, number_of_words, number_of_characters)\n",
    "print(final_answer_tuple)"
   ]
  },
  {
   "cell_type": "code",
   "execution_count": null,
   "metadata": {},
   "outputs": [],
   "source": [
    "def ex4(apr):\n",
    "    # Complete this function to use a while loop to determine how long it takes for an investment\n",
    "    # to double at a given interest rate. The input to this function, apr, is the annualized interest rate\n",
    "    # and the output is the number of years it takes an investment to double. Note: The amount of the initial\n",
    "    # investment (principal) does not matter; you can use $1.\n",
    "    # Hint: principal is the amount of money being invested.\n",
    "    # apr is the annual percentage rate expressed as a decimal number.\n",
    "    # Relationship: value after one year is given by principal * (1+ apr)\n",
    "\n",
    "    # BEGIN SOLUTION\n",
    "    pass\n",
    "    # END SOLUTION"
   ]
  },
  {
   "cell_type": "code",
   "execution_count": null,
   "metadata": {},
   "outputs": [
    {
     "name": "stdout",
     "output_type": "stream",
     "text": [
      "0\n"
     ]
    }
   ],
   "source": [
    "principal_amount = 1\n",
    "value = principal_amount\n",
    "apr = (apr/100)\n",
    "year = 0\n",
    "\n",
    "while ((2 * principal_amount) < (principal_amount)):\n",
    "    print(year)\n",
    "    print(principal_amount)\n",
    "    print(apr)\n",
    "    principal_amount = principal_amount * apr\n",
    "    year = year + 1\n",
    "\n",
    "print(year)\n"
   ]
  },
  {
   "cell_type": "code",
   "execution_count": null,
   "metadata": {},
   "outputs": [
    {
     "name": "stdout",
     "output_type": "stream",
     "text": [
      "1\n"
     ]
    }
   ],
   "source": [
    "principal_amount = 1\n",
    "value = principal_amount\n",
    "apr = 100\n",
    "apr = (apr/100)\n",
    "year = 0\n",
    "\n",
    "while (value < (2 * principal_amount)):\n",
    "    value = principal_amount * (apr + 1)\n",
    "    year = year + 1\n",
    "\n",
    "print(year)"
   ]
  },
  {
   "cell_type": "code",
   "execution_count": null,
   "metadata": {},
   "outputs": [
    {
     "data": {
      "text/plain": [
       "1"
      ]
     },
     "execution_count": 35,
     "metadata": {},
     "output_type": "execute_result"
    }
   ],
   "source": [
    "def ex4(apr):\n",
    "    # Complete this function to use a while loop to determine how long it takes for an investment\n",
    "    # to double at a given interest rate. The input to this function, apr, is the annualized interest rate\n",
    "    # and the output is the number of years it takes an investment to double. Note: The amount of the initial\n",
    "    # investment (principal) does not matter; you can use $1.\n",
    "    # Hint: principal is the amount of money being invested.\n",
    "    # apr is the annual percentage rate expressed as a decimal number.\n",
    "    # Relationship: value after one year is given by principal * (1+ apr)\n",
    "\n",
    "    # BEGIN SOLUTION\n",
    "    principal_amount = 1\n",
    "    year = 0\n",
    "    value = principal_amount\n",
    "    while (value < 2 * principal_amount):\n",
    "        value = value * ((apr/100) + 1)\n",
    "        year = year + 1\n",
    "    return year\n",
    "    # END SOLUTION\n",
    "ex4(100)"
   ]
  },
  {
   "cell_type": "code",
   "execution_count": null,
   "metadata": {},
   "outputs": [
    {
     "data": {
      "text/plain": [
       "1"
      ]
     },
     "execution_count": 37,
     "metadata": {},
     "output_type": "execute_result"
    }
   ],
   "source": [
    "ex4(100)"
   ]
  },
  {
   "cell_type": "code",
   "execution_count": null,
   "metadata": {},
   "outputs": [
    {
     "name": "stdout",
     "output_type": "stream",
     "text": [
      "lines: 50 words: 643 characters: 4249\n"
     ]
    }
   ],
   "source": [
    "file = open(\"ex3_data.txt\", \"r\")\n",
    "\n",
    "number_of_lines = 0\n",
    "number_of_words = 0\n",
    "number_of_characters = 0\n",
    "for line in file:\n",
    "\n",
    "    line = line.strip(\"\\n\")\n",
    "\n",
    "\n",
    "    words = line.split()\n",
    "    number_of_lines += 1\n",
    "    number_of_words += len(words)\n",
    "    number_of_characters += len(line)\n",
    "\n",
    "file.close()\n",
    "print(\"lines:\", number_of_lines, \"words:\", number_of_words, \"characters:\", number_of_characters)"
   ]
  },
  {
   "cell_type": "code",
   "execution_count": null,
   "metadata": {},
   "outputs": [
    {
     "name": "stdout",
     "output_type": "stream",
     "text": [
      "[2, 3, 5, 7, 11, 13, 17, 19, 23, 29]\n"
     ]
    }
   ],
   "source": [
    "n = 30\n",
    "primes = []\n",
    "if n >= 2:\n",
    "    primes = [2]\n",
    "if n >= 3:\n",
    "    primes = [2,3]    \n",
    "if n >= 5:\n",
    "    primes = [2,3,5]\n",
    "if n >= 7:\n",
    "    primes = [2,3,5,7]   \n",
    "for i in range(2, n+1):\n",
    "    if i % 2 == 0 or i % 3 == 0 or i % 5 == 0 or i % 7 == 0:\n",
    "        continue\n",
    "    else:\n",
    "        primes.append(i)\n",
    "\n",
    "print(primes)\n"
   ]
  },
  {
   "cell_type": "code",
   "execution_count": null,
   "metadata": {},
   "outputs": [],
   "source": [
    "def ex7(n):\n",
    "    # Complete this function to return all the primes as a list less than or equal to n\n",
    "    # Input: n\n",
    "    # Output: a list of numbers\n",
    "    # hint use ex6\n",
    "\n",
    "    # BEGIN SOLUTION\n",
    "    primes = []\n",
    "    if n >= 2:\n",
    "        primes = [2]\n",
    "    if n >= 3:\n",
    "        primes = [2, 3]\n",
    "    if n >= 5:\n",
    "        primes = [2, 3, 5]\n",
    "    if n >= 7:\n",
    "        primes = [2, 3, 5, 7]\n",
    "    for i in range(2, n+1):\n",
    "        if i % 2 == 0 or i % 3 == 0 or i % 5 == 0 or i % 7 == 0:\n",
    "            continue\n",
    "        else:\n",
    "            primes.append(i)\n",
    "    return primes\n",
    "    "
   ]
  },
  {
   "cell_type": "code",
   "execution_count": null,
   "metadata": {},
   "outputs": [
    {
     "name": "stdout",
     "output_type": "stream",
     "text": [
      "[]\n"
     ]
    }
   ],
   "source": [
    "print(ex7(1))"
   ]
  },
  {
   "cell_type": "code",
   "execution_count": null,
   "metadata": {},
   "outputs": [],
   "source": [
    "def ex8(m, n):\n",
    "    # Complete this function to determine the greatest common divisor (GCD).\n",
    "    # The GCD of two values can be computed using Euclid's algorithm. Starting with the values\n",
    "    # m and n, we repeatedly apply the formula: n, m = m, n%m until m is 0. At this point, n is the GCD\n",
    "    # of the original m and n.\n",
    "    # Inputs: m and n which are both natural numbers\n",
    "    # Output: gcd\n",
    "\n",
    "    # BEGIN SOLUTION\n",
    "    ans = None\n",
    "    if m < n or n > m:\n",
    "        divisor = m\n",
    "        dividend = n\n",
    "    elif m == n:\n",
    "        divisor = m\n",
    "        dividend = m\n",
    "    else:\n",
    "        divisor = n\n",
    "        dividend = m\n",
    "    for i in range(divisor, 0, -1):\n",
    "        if (dividend % divisor == 0):\n",
    "            ans = divisor\n",
    "            break\n",
    "        else:\n",
    "            continue\n",
    "    if not ans:\n",
    "        return 1\n",
    "    else:\n",
    "        return ans\n",
    "        # END SOLUTION\n"
   ]
  },
  {
   "cell_type": "code",
   "execution_count": null,
   "metadata": {},
   "outputs": [
    {
     "name": "stdout",
     "output_type": "stream",
     "text": [
      "2\n"
     ]
    }
   ],
   "source": [
    "print( ex8(2,2))"
   ]
  },
  {
   "cell_type": "code",
   "execution_count": null,
   "metadata": {},
   "outputs": [],
   "source": [
    "with open(\"ex9_data.txt\", \"r\") as raw_file:\n",
    "    entire_file = raw_file.read()\n",
    "\n",
    "list_of_student_names_and_marks = entire_file.split(\"\\n\")\n",
    "list_of_student_names_and_marks = list_of_student_names_and_marks[::2]\n",
    "maal = []\n",
    "for i in range(len(list_of_student_names_and_marks)):\n",
    "    maal.append(list_of_student_names_and_marks[i].split(\",\"))\n",
    "dicto = {}\n",
    "list_of_dicts = []\n"
   ]
  },
  {
   "cell_type": "code",
   "execution_count": null,
   "metadata": {},
   "outputs": [
    {
     "data": {
      "text/plain": [
       "[{'name': 'student1000',\n",
       "  'marks': [59,\n",
       "   72,\n",
       "   60,\n",
       "   89,\n",
       "   50,\n",
       "   89,\n",
       "   100,\n",
       "   91,\n",
       "   96,\n",
       "   80,\n",
       "   99,\n",
       "   100,\n",
       "   60,\n",
       "   76,\n",
       "   79,\n",
       "   85,\n",
       "   95,\n",
       "   67,\n",
       "   63,\n",
       "   69,\n",
       "   86,\n",
       "   62,\n",
       "   66,\n",
       "   75,\n",
       "   96]},\n",
       " {'name': 'student1000',\n",
       "  'marks': [59,\n",
       "   72,\n",
       "   60,\n",
       "   89,\n",
       "   50,\n",
       "   89,\n",
       "   100,\n",
       "   91,\n",
       "   96,\n",
       "   80,\n",
       "   99,\n",
       "   100,\n",
       "   60,\n",
       "   76,\n",
       "   79,\n",
       "   85,\n",
       "   95,\n",
       "   67,\n",
       "   63,\n",
       "   69,\n",
       "   86,\n",
       "   62,\n",
       "   66,\n",
       "   75,\n",
       "   96]}]"
      ]
     },
     "execution_count": 175,
     "metadata": {},
     "output_type": "execute_result"
    }
   ],
   "source": [
    "for i in range(len(maal)-1):\n",
    "    dicto[\"name\"] = (maal[i][0])\n",
    "    dicto[\"marks\"] = [eval(i) for i in (maal[i][1:])]\n",
    "    list_of_dicts.append(dicto)\n",
    "\n",
    "list_of_dicts[:2]   \n",
    "\n"
   ]
  },
  {
   "cell_type": "code",
   "execution_count": null,
   "metadata": {},
   "outputs": [
    {
     "data": {
      "text/plain": [
       "[59,\n",
       " 72,\n",
       " 60,\n",
       " 89,\n",
       " 50,\n",
       " 89,\n",
       " 100,\n",
       " 91,\n",
       " 96,\n",
       " 80,\n",
       " 99,\n",
       " 100,\n",
       " 60,\n",
       " 76,\n",
       " 79,\n",
       " 85,\n",
       " 95,\n",
       " 67,\n",
       " 63,\n",
       " 69,\n",
       " 86,\n",
       " 62,\n",
       " 66,\n",
       " 75,\n",
       " 96]"
      ]
     },
     "execution_count": 194,
     "metadata": {},
     "output_type": "execute_result"
    }
   ],
   "source": [
    "list_of_dicts[10][\"marks\"]"
   ]
  },
  {
   "cell_type": "code",
   "execution_count": null,
   "metadata": {},
   "outputs": [],
   "source": [
    "numbers = [1,2,3,4,5,1,4,5]\n"
   ]
  },
  {
   "cell_type": "code",
   "execution_count": null,
   "metadata": {},
   "outputs": [
    {
     "ename": "IndexError",
     "evalue": "list index out of range",
     "output_type": "error",
     "traceback": [
      "\u001b[0;31m---------------------------------------------------------------------------\u001b[0m",
      "\u001b[0;31mIndexError\u001b[0m                                Traceback (most recent call last)",
      "\u001b[1;32m/Users/chitralpatil/Documents/Zia/Gradescope/assignment3/playground.ipynb Cell 22\u001b[0m in \u001b[0;36m<cell line: 1>\u001b[0;34m()\u001b[0m\n\u001b[0;32m----> <a href='vscode-notebook-cell:/Users/chitralpatil/Documents/Zia/Gradescope/assignment3/playground.ipynb#X32sZmlsZQ%3D%3D?line=0'>1</a>\u001b[0m list_of_dicts[\u001b[39m0\u001b[39;49m]\n",
      "\u001b[0;31mIndexError\u001b[0m: list index out of range"
     ]
    }
   ],
   "source": []
  },
  {
   "cell_type": "code",
   "execution_count": null,
   "metadata": {},
   "outputs": [],
   "source": [
    "list1 = [10, 20, 4, 45, 99]\n",
    " \n",
    "# sorting the list\n",
    "list1.sort()"
   ]
  },
  {
   "cell_type": "code",
   "execution_count": null,
   "metadata": {},
   "outputs": [
    {
     "name": "stdout",
     "output_type": "stream",
     "text": [
      "0\n",
      "1\n"
     ]
    }
   ],
   "source": [
    "for i in range(2):\n",
    "    print(i)"
   ]
  },
  {
   "cell_type": "code",
   "execution_count": 25,
   "metadata": {},
   "outputs": [
    {
     "data": {
      "text/plain": [
       "[10, 20, 45]"
      ]
     },
     "execution_count": 25,
     "metadata": {},
     "output_type": "execute_result"
    }
   ],
   "source": [
    "data = [10, 20, 4, 45, 99]\n",
    "for i in range(1):\n",
    "    data.remove(min(data))\n",
    "    data.remove(max(data))\n",
    "data  "
   ]
  },
  {
   "cell_type": "code",
   "execution_count": 28,
   "metadata": {},
   "outputs": [],
   "source": [
    "def ex12(n):\n",
    "    # A proper divisor of a  positive integer, n, is a positive integer less than n which divides\n",
    "    # evenly into n. Complete this function to compute all the proper divisors of a positive\n",
    "    # integer. The integer is passed to this function as the only parameter. The function will\n",
    "    # return a list of containing all of the proper divisors as its only result.\n",
    "\n",
    "    # input: n (int)\n",
    "    # output: list\n",
    "\n",
    "    # BEGIN SOLUTION\n",
    "    proper_divisors = []\n",
    "    for i in range(1, n+1):\n",
    "        if n % i == 0:\n",
    "            proper_divisors.append(i)\n",
    "    proper_divisors.remove(n)\n",
    "    return proper_divisors\n",
    "\n",
    "    # END SOLUTION"
   ]
  },
  {
   "cell_type": "code",
   "execution_count": 36,
   "metadata": {},
   "outputs": [
    {
     "name": "stdout",
     "output_type": "stream",
     "text": [
      "True\n"
     ]
    }
   ],
   "source": [
    "n = 28\n",
    "proper_divisors_list = ex12(n)\n",
    "sum = 0\n",
    "for number in proper_divisors_list:\n",
    "    sum += number\n",
    "if sum == n:\n",
    "    print(\"True\")\n",
    "else:\n",
    "    print(\"FFFFF\")"
   ]
  },
  {
   "cell_type": "code",
   "execution_count": 38,
   "metadata": {},
   "outputs": [],
   "source": [
    "del sum"
   ]
  },
  {
   "cell_type": "code",
   "execution_count": 39,
   "metadata": {},
   "outputs": [
    {
     "name": "stdout",
     "output_type": "stream",
     "text": [
      "6\n",
      "7\n"
     ]
    }
   ],
   "source": [
    "points = [(1, 0), (2, 3), (3, 4)]\n",
    "\n",
    "x = []\n",
    "y = []\n",
    "for point in points:\n",
    "    x.append(point[0])\n",
    "    y.append(point[1])\n",
    "x_sum = sum(x)\n",
    "y_sum = sum(y)\n",
    "\n",
    "x_mean = x_sum / len(x)\n",
    "y_mean = y_sum / len(y)\n",
    "\n",
    "x_denom = []\n",
    "numerator_fina = []\n",
    "for i in range(len(x)):\n",
    "    numerator_fina.append((x[i] - x_mean)*(y[i]-y_mean))\n",
    "    x_denom.append((x[i] - x_mean)**2)\n",
    "slope = sum(numerator_fina)/sum(x_denom)\n",
    "b = y_mean - (slope)*(x_mean)\n",
    "\n",
    "\n"
   ]
  },
  {
   "cell_type": "code",
   "execution_count": 6,
   "metadata": {},
   "outputs": [
    {
     "name": "stdout",
     "output_type": "stream",
     "text": [
      "Lorem ipsum dolor sit amet, consectetur adipiscing elit, sed do eiusmod tempor \n",
      "\n",
      "incididunt ut labore et dolore magna aliqua. Quis commodo odio aenean sed \n",
      "\n",
      "adipiscing diam donec adipiscing. Consequat interdum varius sit amet. Sem \n",
      "\n",
      "viverra aliquet eget sit. Et tortor consequat id porta nibh venenatis cras \n",
      "\n",
      "sed felis. Fermentum odio eu feugiat pretium nibh ipsum consequat nisl vel. \n",
      "\n",
      "Adipiscing elit ut aliquam purus sit amet luctus venenatis. Tincidunt ornare \n",
      "\n",
      "massa eget egestas purus viverra accumsan in. Purus viverra accumsan in nisl nisi. \n",
      "\n",
      "Imperdiet massa tincidunt nunc pulvinar sapien et ligula. Et ligula ullamcorper malesuada \n",
      "\n",
      "proin libero. Eget gravida cum sociis natoque penatibus et magnis. Natoque penatibus et magnis \n",
      "\n",
      "dis parturient montes nascetur. Ipsum consequat nisl vel pretium lectus. Rhoncus dolor purus \n",
      "\n",
      "non enim praesent. Posuere morbi leo urna molestie. Ut consequat semper viverra nam. Faucibus \n",
      "\n",
      "interdum posuere lorem ipsum dolor. Tincidunt nunc pulvinar sapien et ligula ullamcorper malesuada proin libero.\n",
      "\n",
      "\n",
      "\n",
      "Integer malesuada nunc vel risus. Arcu non odio euismod lacinia at quis risus. Ultrices neque\n",
      "\n",
      "ornare aenean euismod elementum nisi quis eleifend quam. Cursus risus at ultrices mi tempus imperdiet. \n",
      "\n",
      "Sapien nec sagittis aliquam malesuada bibendum. Sem fringilla ut morbi tincidunt augue interdum velit \n",
      "\n",
      "euismod. Volutpat est velit egestas dui id. Nisi est sit amet facilisis magna. Netus et malesuada fames\n",
      "\n",
      "ac turpis egestas. Pellentesque elit eget gravida cum. Urna molestie at elementum eu.\n",
      "\n",
      "Nulla aliquet porttitor lacus luctus accumsan tortor. Nisl nisi scelerisque eu ultrices \n",
      "\n",
      "vitae auctor eu augue ut. Adipiscing elit ut aliquam purus. Pharetra vel turpis nunc eget\n",
      "\n",
      "lorem dolor sed viverra ipsum. Pharetra vel turpis nunc eget lorem dolor sed viverra ipsum. \n",
      "\n",
      "A cras semper auctor neque vitae tempus quam pellentesque.\n",
      "\n",
      "\n",
      "\n",
      "Sem fringilla ut morbi tincidunt augue interdum. Ac ut consequat semper viverra nam \n",
      "\n",
      "libero justo laoreet sit. Vulputate mi sit amet mauris commodo quis imperdiet massa tincidunt. \n",
      "\n",
      "Ac turpis egestas integer eget aliquet. Id nibh tortor id aliquet lectus proin nibh nisl. Urna \n",
      "\n",
      "nec tincidunt praesent semper feugiat nibh sed pulvinar proin. Tincidunt arcu non sodales neque \n",
      "\n",
      "sodales. Nulla malesuada pellentesque elit eget gravida cum sociis natoque penatibus. Risus feugiat\n",
      "\n",
      "in ante metus dictum at tempor. Sed velit dignissim sodales ut. Bibendum neque egestas congue quisque \n",
      "\n",
      "egestas diam. Cras sed felis eget velit aliquet. Elit ullamcorper dignissim cras tincidunt lobortis \n",
      "\n",
      "feugiat vivamus at augue. Aliquet bibendum enim facilisis gravida neque. Diam sollicitudin tempor\n",
      "\n",
      "id eu nisl nunc mi. Mauris ultrices eros in cursus turpis. Pellentesque id nibh tortor id.\n",
      "\n",
      "\n",
      "\n",
      "Molestie ac feugiat sed lectus vestibulum mattis ullamcorper velit sed. Tincidunt arcu non sodales \n",
      "\n",
      "neque sodales. Et netus et malesuada fames ac turpis. Leo a diam sollicitudin tempor id eu nisl nunc \n",
      "\n",
      "mi. In aliquam sem fringilla ut morbi tincidunt augue. Ultrices neque ornare aenean euismod elementum\n",
      "\n",
      "nisi quis. Integer quis auctor elit sed. Amet tellus cras adipiscing enim eu. Nisl suscipit \n",
      "\n",
      "adipiscing bibendum est ultricies integer quis auctor elit. Eu tincidunt tortor aliquam nulla. \n",
      "\n",
      "Leo a diam sollicitudin tempor id eu. Cum sociis natoque penatibus et magnis dis parturient montes \n",
      "\n",
      "nascetur. Tortor posuere ac ut consequat semper. Morbi tristique senectus et netus et malesuada \n",
      "\n",
      "fames ac turpis. Et netus et malesuada fames ac. Lacus vel facilisis volutpat est velit egestas dui.\n",
      "\n",
      "\n",
      "\n",
      "Sit amet risus nullam eget felis eget nunc lobortis mattis. Eu lobortis elementum nibh tellus\n",
      "\n",
      "molestie nunc non blandit massa. Sit amet mauris commodo quis imperdiet massa tincidunt nunc pulvinar.\n",
      "\n",
      "Venenatis cras sed felis eget velit. Senectus et netus et malesuada. In pellentesque massa placerat\n",
      "\n",
      "duis ultricies lacus. Non quam lacus suspendisse faucibus interdum posuere lorem ipsum dolor. Vulputate enim\n",
      "\n",
      "nulla aliquet porttitor lacus luctus. Lobortis feugiat vivamus at augue eget arcu dictum varius duis. \n",
      "\n",
      "A diam maecenas sed enim ut sem viverra aliquet. Fames ac turpis egestas sed tempus urna et pharetra.\n",
      "\n",
      "Consequat mauris nunc congue nisi vitae suscipit tellus mauris. Sem fringilla ut morbi tincidunt augue \n",
      "\n",
      "interdum velit euismod. Tristique risus nec feugiat in fermentum.\n",
      "lines: 50 words: 643 characters: 4298\n"
     ]
    }
   ],
   "source": [
    "filename = \"ex3_data.txt\"\n",
    "\n",
    "number_of_lines = 0\n",
    "number_of_words = 0\n",
    "number_of_characters = 0\n",
    "with open(filename, 'r') as file:\n",
    "    for line in file:\n",
    "        # It is very important that we calculate the number of characters before splitting the line on \\n since we would be loosing that character and the results would be nothing if not inaccurate\n",
    "        number_of_characters += len(line)\n",
    "\n",
    "        line = line.strip(\"\\n\")\n",
    "        words = line.split()\n",
    "        number_of_lines += 1\n",
    "        number_of_words += len(words)\n",
    "\n",
    "\n",
    "return ()\n"
   ]
  },
  {
   "cell_type": "code",
   "execution_count": null,
   "metadata": {},
   "outputs": [],
   "source": []
  }
 ],
 "metadata": {
  "kernelspec": {
   "display_name": "Python 3.9.12 ('base')",
   "language": "python",
   "name": "python3"
  },
  "language_info": {
   "codemirror_mode": {
    "name": "ipython",
    "version": 3
   },
   "file_extension": ".py",
   "mimetype": "text/x-python",
   "name": "python",
   "nbconvert_exporter": "python",
   "pygments_lexer": "ipython3",
   "version": "3.9.12"
  },
  "orig_nbformat": 4,
  "vscode": {
   "interpreter": {
    "hash": "cd78fef2128015050713e82ca51c6520b11aee7c9ee8df750520bbbc7384cbaa"
   }
  }
 },
 "nbformat": 4,
 "nbformat_minor": 2
}
